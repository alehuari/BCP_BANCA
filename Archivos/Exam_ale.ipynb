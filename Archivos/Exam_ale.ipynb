{
 "cells": [
  {
   "cell_type": "code",
   "execution_count": 1,
   "metadata": {},
   "outputs": [],
   "source": [
    "import pandas as pd\n",
    "import numpy as np\n",
    "import matplotlib.pyplot as plt\n",
    "import seaborn as sns\n",
    "#Pueden importar las librerías de gráficos que quieran.\n",
    "pd.options.display.float_format = '{:,.2f}'.format"
   ]
  },
  {
   "cell_type": "markdown",
   "metadata": {},
   "source": [
    "## Archivos proporcionados"
   ]
  },
  {
   "cell_type": "markdown",
   "metadata": {},
   "source": [
    "En el primer archivo \"operaciones.csv\" están las operaciones realizadas por los clientes (identificados por la columna CODCLAVECIC), la cantidad de dólares cambiados y el precio al que se cambiaron. **Además contiene la fecha y hora en la que se realizó cada operación.**\n",
    "\n",
    "El segundo archivo \"segmentos.xlsx\" contiene la información de a qué SEGMENTO pertenece cada cliente de la tabla \"operaciones.csv\".\n",
    "\n",
    "El tercer archivo \"vinculacion.parquet\" contiene un indicador del nivel de vinculacion del cliente con el BCP que se actualiza todos los meses."
   ]
  },
  {
   "cell_type": "markdown",
   "metadata": {},
   "source": [
    "## Ejercicio 1"
   ]
  },
  {
   "cell_type": "markdown",
   "metadata": {},
   "source": [
    "#### Parte 1:\n",
    "\n",
    "a) Lea los archivos proporcionados.\n",
    "\n",
    "b) Calcule (i) la cantidad total y (ii) el ingreso promedio para cada segmento de clientes (Hint: el ingreso se calcula como PxQ).\n",
    "\n",
    "Los clientes de la tabla \"operaciones.csv\" que NO aparecen en la tabla de \"segmentos.xlsx\" son \"NO SEGMENTADOS\".\n",
    " "
   ]
  },
  {
   "cell_type": "code",
   "execution_count": 2,
   "metadata": {},
   "outputs": [],
   "source": [
    "operaciones = pd.read_csv(\"operaciones.csv\", sep= ',')\n",
    "segmentos = pd.read_excel(\"segmentos.xlsx\")\n",
    "vinculacion = pd.read_parquet(\"vinculacion.parquet\")"
   ]
  },
  {
   "cell_type": "code",
   "execution_count": 3,
   "id": "da38d041",
   "metadata": {},
   "outputs": [
    {
     "data": {
      "text/html": [
       "<div>\n",
       "<style scoped>\n",
       "    .dataframe tbody tr th:only-of-type {\n",
       "        vertical-align: middle;\n",
       "    }\n",
       "\n",
       "    .dataframe tbody tr th {\n",
       "        vertical-align: top;\n",
       "    }\n",
       "\n",
       "    .dataframe thead th {\n",
       "        text-align: right;\n",
       "    }\n",
       "</style>\n",
       "<table border=\"1\" class=\"dataframe\">\n",
       "  <thead>\n",
       "    <tr style=\"text-align: right;\">\n",
       "      <th></th>\n",
       "      <th>CODCLAVECIC</th>\n",
       "      <th>FECHA</th>\n",
       "      <th>HORA</th>\n",
       "      <th>CANTIDAD</th>\n",
       "      <th>PRECIO</th>\n",
       "    </tr>\n",
       "  </thead>\n",
       "  <tbody>\n",
       "    <tr>\n",
       "      <th>0</th>\n",
       "      <td>14500</td>\n",
       "      <td>01/03/22</td>\n",
       "      <td>08:51:03</td>\n",
       "      <td>2,000,000.00</td>\n",
       "      <td>20.00</td>\n",
       "    </tr>\n",
       "    <tr>\n",
       "      <th>1</th>\n",
       "      <td>2705162</td>\n",
       "      <td>01/03/22</td>\n",
       "      <td>09:01:44</td>\n",
       "      <td>100,000.00</td>\n",
       "      <td>60.00</td>\n",
       "    </tr>\n",
       "    <tr>\n",
       "      <th>2</th>\n",
       "      <td>47638</td>\n",
       "      <td>01/03/22</td>\n",
       "      <td>09:02:58</td>\n",
       "      <td>120,000.00</td>\n",
       "      <td>250.00</td>\n",
       "    </tr>\n",
       "    <tr>\n",
       "      <th>3</th>\n",
       "      <td>1570837</td>\n",
       "      <td>01/03/22</td>\n",
       "      <td>09:03:28</td>\n",
       "      <td>5,000.00</td>\n",
       "      <td>220.00</td>\n",
       "    </tr>\n",
       "    <tr>\n",
       "      <th>4</th>\n",
       "      <td>83580</td>\n",
       "      <td>01/03/22</td>\n",
       "      <td>09:06:16</td>\n",
       "      <td>5,000.00</td>\n",
       "      <td>300.00</td>\n",
       "    </tr>\n",
       "    <tr>\n",
       "      <th>5</th>\n",
       "      <td>11171322</td>\n",
       "      <td>01/03/22</td>\n",
       "      <td>09:06:30</td>\n",
       "      <td>5,000.00</td>\n",
       "      <td>260.00</td>\n",
       "    </tr>\n",
       "  </tbody>\n",
       "</table>\n",
       "</div>"
      ],
      "text/plain": [
       "   CODCLAVECIC     FECHA      HORA     CANTIDAD  PRECIO\n",
       "0        14500  01/03/22  08:51:03 2,000,000.00   20.00\n",
       "1      2705162  01/03/22  09:01:44   100,000.00   60.00\n",
       "2        47638  01/03/22  09:02:58   120,000.00  250.00\n",
       "3      1570837  01/03/22  09:03:28     5,000.00  220.00\n",
       "4        83580  01/03/22  09:06:16     5,000.00  300.00\n",
       "5     11171322  01/03/22  09:06:30     5,000.00  260.00"
      ]
     },
     "execution_count": 3,
     "metadata": {},
     "output_type": "execute_result"
    }
   ],
   "source": [
    "operaciones.head(6)"
   ]
  },
  {
   "cell_type": "code",
   "execution_count": 4,
   "id": "e34cf62f",
   "metadata": {},
   "outputs": [
    {
     "data": {
      "text/html": [
       "<div>\n",
       "<style scoped>\n",
       "    .dataframe tbody tr th:only-of-type {\n",
       "        vertical-align: middle;\n",
       "    }\n",
       "\n",
       "    .dataframe tbody tr th {\n",
       "        vertical-align: top;\n",
       "    }\n",
       "\n",
       "    .dataframe thead th {\n",
       "        text-align: right;\n",
       "    }\n",
       "</style>\n",
       "<table border=\"1\" class=\"dataframe\">\n",
       "  <thead>\n",
       "    <tr style=\"text-align: right;\">\n",
       "      <th></th>\n",
       "      <th>CODCLAVECIC</th>\n",
       "      <th>SEGMENTO</th>\n",
       "    </tr>\n",
       "  </thead>\n",
       "  <tbody>\n",
       "    <tr>\n",
       "      <th>0</th>\n",
       "      <td>24640513</td>\n",
       "      <td>PYME</td>\n",
       "    </tr>\n",
       "    <tr>\n",
       "      <th>1</th>\n",
       "      <td>9164066</td>\n",
       "      <td>NEGOCIOS</td>\n",
       "    </tr>\n",
       "    <tr>\n",
       "      <th>2</th>\n",
       "      <td>137683</td>\n",
       "      <td>PYME</td>\n",
       "    </tr>\n",
       "    <tr>\n",
       "      <th>3</th>\n",
       "      <td>7907034</td>\n",
       "      <td>PYME</td>\n",
       "    </tr>\n",
       "    <tr>\n",
       "      <th>4</th>\n",
       "      <td>7651274</td>\n",
       "      <td>PYME</td>\n",
       "    </tr>\n",
       "    <tr>\n",
       "      <th>5</th>\n",
       "      <td>7037943</td>\n",
       "      <td>PYME</td>\n",
       "    </tr>\n",
       "  </tbody>\n",
       "</table>\n",
       "</div>"
      ],
      "text/plain": [
       "   CODCLAVECIC  SEGMENTO\n",
       "0     24640513      PYME\n",
       "1      9164066  NEGOCIOS\n",
       "2       137683      PYME\n",
       "3      7907034      PYME\n",
       "4      7651274      PYME\n",
       "5      7037943      PYME"
      ]
     },
     "execution_count": 4,
     "metadata": {},
     "output_type": "execute_result"
    }
   ],
   "source": [
    "segmentos.head(6)"
   ]
  },
  {
   "cell_type": "code",
   "execution_count": 5,
   "metadata": {},
   "outputs": [
    {
     "data": {
      "text/plain": [
       "(81128, 5)"
      ]
     },
     "execution_count": 5,
     "metadata": {},
     "output_type": "execute_result"
    }
   ],
   "source": [
    "operaciones.shape"
   ]
  },
  {
   "cell_type": "code",
   "execution_count": 6,
   "metadata": {},
   "outputs": [
    {
     "name": "stdout",
     "output_type": "stream",
     "text": [
      "<class 'pandas.core.frame.DataFrame'>\n",
      "RangeIndex: 36850 entries, 0 to 36849\n",
      "Data columns (total 2 columns):\n",
      " #   Column       Non-Null Count  Dtype \n",
      "---  ------       --------------  ----- \n",
      " 0   CODCLAVECIC  36850 non-null  int64 \n",
      " 1   SEGMENTO     36850 non-null  object\n",
      "dtypes: int64(1), object(1)\n",
      "memory usage: 575.9+ KB\n"
     ]
    }
   ],
   "source": [
    "segmentos.info()"
   ]
  },
  {
   "cell_type": "code",
   "execution_count": 7,
   "id": "f1874497",
   "metadata": {},
   "outputs": [
    {
     "data": {
      "text/html": [
       "<div>\n",
       "<style scoped>\n",
       "    .dataframe tbody tr th:only-of-type {\n",
       "        vertical-align: middle;\n",
       "    }\n",
       "\n",
       "    .dataframe tbody tr th {\n",
       "        vertical-align: top;\n",
       "    }\n",
       "\n",
       "    .dataframe thead th {\n",
       "        text-align: right;\n",
       "    }\n",
       "</style>\n",
       "<table border=\"1\" class=\"dataframe\">\n",
       "  <thead>\n",
       "    <tr style=\"text-align: right;\">\n",
       "      <th></th>\n",
       "      <th>CODCLAVECIC</th>\n",
       "      <th>FECHA</th>\n",
       "      <th>HORA</th>\n",
       "      <th>CANTIDAD</th>\n",
       "      <th>PRECIO</th>\n",
       "      <th>SEGMENTO</th>\n",
       "    </tr>\n",
       "  </thead>\n",
       "  <tbody>\n",
       "    <tr>\n",
       "      <th>0</th>\n",
       "      <td>14500</td>\n",
       "      <td>01/03/22</td>\n",
       "      <td>08:51:03</td>\n",
       "      <td>2,000,000.00</td>\n",
       "      <td>20.00</td>\n",
       "      <td>CORPORATIVA</td>\n",
       "    </tr>\n",
       "    <tr>\n",
       "      <th>1</th>\n",
       "      <td>2705162</td>\n",
       "      <td>01/03/22</td>\n",
       "      <td>09:01:44</td>\n",
       "      <td>100,000.00</td>\n",
       "      <td>60.00</td>\n",
       "      <td>SENIOR</td>\n",
       "    </tr>\n",
       "    <tr>\n",
       "      <th>2</th>\n",
       "      <td>47638</td>\n",
       "      <td>01/03/22</td>\n",
       "      <td>09:02:58</td>\n",
       "      <td>120,000.00</td>\n",
       "      <td>250.00</td>\n",
       "      <td>NEGOCIOS</td>\n",
       "    </tr>\n",
       "    <tr>\n",
       "      <th>3</th>\n",
       "      <td>1570837</td>\n",
       "      <td>01/03/22</td>\n",
       "      <td>09:03:28</td>\n",
       "      <td>5,000.00</td>\n",
       "      <td>220.00</td>\n",
       "      <td>JUNIOR</td>\n",
       "    </tr>\n",
       "    <tr>\n",
       "      <th>4</th>\n",
       "      <td>83580</td>\n",
       "      <td>01/03/22</td>\n",
       "      <td>09:06:16</td>\n",
       "      <td>5,000.00</td>\n",
       "      <td>300.00</td>\n",
       "      <td>NEGOCIOS</td>\n",
       "    </tr>\n",
       "    <tr>\n",
       "      <th>...</th>\n",
       "      <td>...</td>\n",
       "      <td>...</td>\n",
       "      <td>...</td>\n",
       "      <td>...</td>\n",
       "      <td>...</td>\n",
       "      <td>...</td>\n",
       "    </tr>\n",
       "    <tr>\n",
       "      <th>81123</th>\n",
       "      <td>2679372</td>\n",
       "      <td>30/06/22</td>\n",
       "      <td>17:51:50</td>\n",
       "      <td>300,000.00</td>\n",
       "      <td>30.00</td>\n",
       "      <td>INSTITUCIONAL</td>\n",
       "    </tr>\n",
       "    <tr>\n",
       "      <th>81124</th>\n",
       "      <td>19865961</td>\n",
       "      <td>30/06/22</td>\n",
       "      <td>17:54:46</td>\n",
       "      <td>15,000.00</td>\n",
       "      <td>100.00</td>\n",
       "      <td>PYME</td>\n",
       "    </tr>\n",
       "    <tr>\n",
       "      <th>81125</th>\n",
       "      <td>60648</td>\n",
       "      <td>30/06/22</td>\n",
       "      <td>17:56:41</td>\n",
       "      <td>5,000.00</td>\n",
       "      <td>700.00</td>\n",
       "      <td>PYME</td>\n",
       "    </tr>\n",
       "    <tr>\n",
       "      <th>81126</th>\n",
       "      <td>24983287</td>\n",
       "      <td>30/06/22</td>\n",
       "      <td>17:57:05</td>\n",
       "      <td>15,000.00</td>\n",
       "      <td>50.00</td>\n",
       "      <td>PYME</td>\n",
       "    </tr>\n",
       "    <tr>\n",
       "      <th>81127</th>\n",
       "      <td>2679372</td>\n",
       "      <td>30/06/22</td>\n",
       "      <td>17:57:42</td>\n",
       "      <td>100,000.00</td>\n",
       "      <td>50.00</td>\n",
       "      <td>INSTITUCIONAL</td>\n",
       "    </tr>\n",
       "  </tbody>\n",
       "</table>\n",
       "<p>81128 rows × 6 columns</p>\n",
       "</div>"
      ],
      "text/plain": [
       "       CODCLAVECIC     FECHA      HORA     CANTIDAD  PRECIO       SEGMENTO\n",
       "0            14500  01/03/22  08:51:03 2,000,000.00   20.00    CORPORATIVA\n",
       "1          2705162  01/03/22  09:01:44   100,000.00   60.00         SENIOR\n",
       "2            47638  01/03/22  09:02:58   120,000.00  250.00       NEGOCIOS\n",
       "3          1570837  01/03/22  09:03:28     5,000.00  220.00         JUNIOR\n",
       "4            83580  01/03/22  09:06:16     5,000.00  300.00       NEGOCIOS\n",
       "...            ...       ...       ...          ...     ...            ...\n",
       "81123      2679372  30/06/22  17:51:50   300,000.00   30.00  INSTITUCIONAL\n",
       "81124     19865961  30/06/22  17:54:46    15,000.00  100.00           PYME\n",
       "81125        60648  30/06/22  17:56:41     5,000.00  700.00           PYME\n",
       "81126     24983287  30/06/22  17:57:05    15,000.00   50.00           PYME\n",
       "81127      2679372  30/06/22  17:57:42   100,000.00   50.00  INSTITUCIONAL\n",
       "\n",
       "[81128 rows x 6 columns]"
      ]
     },
     "execution_count": 7,
     "metadata": {},
     "output_type": "execute_result"
    }
   ],
   "source": [
    "unidos = pd.merge(operaciones, segmentos, how = \"left\", on= [\"CODCLAVECIC\"])\n",
    "unidos"
   ]
  },
  {
   "cell_type": "code",
   "execution_count": 8,
   "id": "364fcf3b",
   "metadata": {},
   "outputs": [
    {
     "name": "stdout",
     "output_type": "stream",
     "text": [
      "<class 'pandas.core.frame.DataFrame'>\n",
      "RangeIndex: 81128 entries, 0 to 81127\n",
      "Data columns (total 6 columns):\n",
      " #   Column       Non-Null Count  Dtype  \n",
      "---  ------       --------------  -----  \n",
      " 0   CODCLAVECIC  81128 non-null  int64  \n",
      " 1   FECHA        81128 non-null  object \n",
      " 2   HORA         81128 non-null  object \n",
      " 3   CANTIDAD     81128 non-null  float64\n",
      " 4   PRECIO       81128 non-null  float64\n",
      " 5   SEGMENTO     72923 non-null  object \n",
      "dtypes: float64(2), int64(1), object(3)\n",
      "memory usage: 3.7+ MB\n"
     ]
    }
   ],
   "source": [
    "unidos.info()"
   ]
  },
  {
   "cell_type": "code",
   "execution_count": 9,
   "id": "cbe67603",
   "metadata": {},
   "outputs": [
    {
     "name": "stdout",
     "output_type": "stream",
     "text": [
      "<class 'pandas.core.frame.DataFrame'>\n",
      "RangeIndex: 81128 entries, 0 to 81127\n",
      "Data columns (total 6 columns):\n",
      " #   Column       Non-Null Count  Dtype  \n",
      "---  ------       --------------  -----  \n",
      " 0   CODCLAVECIC  81128 non-null  int64  \n",
      " 1   FECHA        81128 non-null  object \n",
      " 2   HORA         81128 non-null  object \n",
      " 3   CANTIDAD     81128 non-null  float64\n",
      " 4   PRECIO       81128 non-null  float64\n",
      " 5   SEGMENTO     81128 non-null  object \n",
      "dtypes: float64(2), int64(1), object(3)\n",
      "memory usage: 3.7+ MB\n"
     ]
    }
   ],
   "source": [
    "unidos[\"SEGMENTO\"] = unidos[\"SEGMENTO\"].fillna(\"NO_SEGMENTADOS\")\n",
    "unidos.info()"
   ]
  },
  {
   "cell_type": "code",
   "execution_count": 10,
   "id": "2b6f2b08",
   "metadata": {},
   "outputs": [
    {
     "data": {
      "text/html": [
       "<div>\n",
       "<style scoped>\n",
       "    .dataframe tbody tr th:only-of-type {\n",
       "        vertical-align: middle;\n",
       "    }\n",
       "\n",
       "    .dataframe tbody tr th {\n",
       "        vertical-align: top;\n",
       "    }\n",
       "\n",
       "    .dataframe thead th {\n",
       "        text-align: right;\n",
       "    }\n",
       "</style>\n",
       "<table border=\"1\" class=\"dataframe\">\n",
       "  <thead>\n",
       "    <tr style=\"text-align: right;\">\n",
       "      <th></th>\n",
       "      <th>SEGMENTO</th>\n",
       "      <th>CANTIDAD</th>\n",
       "    </tr>\n",
       "  </thead>\n",
       "  <tbody>\n",
       "    <tr>\n",
       "      <th>0</th>\n",
       "      <td>CORPORATIVA</td>\n",
       "      <td>1,936,965,338.71</td>\n",
       "    </tr>\n",
       "    <tr>\n",
       "      <th>1</th>\n",
       "      <td>INSTITUCIONAL</td>\n",
       "      <td>194,675,814.16</td>\n",
       "    </tr>\n",
       "    <tr>\n",
       "      <th>2</th>\n",
       "      <td>JUNIOR</td>\n",
       "      <td>1,226,068,516.29</td>\n",
       "    </tr>\n",
       "    <tr>\n",
       "      <th>3</th>\n",
       "      <td>MULTINACIONAL</td>\n",
       "      <td>678,133,346.33</td>\n",
       "    </tr>\n",
       "    <tr>\n",
       "      <th>4</th>\n",
       "      <td>NEGOCIOS</td>\n",
       "      <td>1,233,981,637.72</td>\n",
       "    </tr>\n",
       "    <tr>\n",
       "      <th>5</th>\n",
       "      <td>NO_SEGMENTADOS</td>\n",
       "      <td>870,214,418.64</td>\n",
       "    </tr>\n",
       "    <tr>\n",
       "      <th>6</th>\n",
       "      <td>PYME</td>\n",
       "      <td>540,128,424.53</td>\n",
       "    </tr>\n",
       "    <tr>\n",
       "      <th>7</th>\n",
       "      <td>SENIOR</td>\n",
       "      <td>854,363,280.46</td>\n",
       "    </tr>\n",
       "  </tbody>\n",
       "</table>\n",
       "</div>"
      ],
      "text/plain": [
       "         SEGMENTO         CANTIDAD\n",
       "0     CORPORATIVA 1,936,965,338.71\n",
       "1   INSTITUCIONAL   194,675,814.16\n",
       "2          JUNIOR 1,226,068,516.29\n",
       "3   MULTINACIONAL   678,133,346.33\n",
       "4        NEGOCIOS 1,233,981,637.72\n",
       "5  NO_SEGMENTADOS   870,214,418.64\n",
       "6            PYME   540,128,424.53\n",
       "7          SENIOR   854,363,280.46"
      ]
     },
     "execution_count": 10,
     "metadata": {},
     "output_type": "execute_result"
    }
   ],
   "source": [
    "# Hallar la cantidad total\n",
    "cantidad_total= unidos.groupby(\"SEGMENTO\")[\"CANTIDAD\"].sum().reset_index()\n",
    "cantidad_total"
   ]
  },
  {
   "cell_type": "code",
   "execution_count": 11,
   "id": "63218f95",
   "metadata": {},
   "outputs": [
    {
     "data": {
      "text/html": [
       "<div>\n",
       "<style scoped>\n",
       "    .dataframe tbody tr th:only-of-type {\n",
       "        vertical-align: middle;\n",
       "    }\n",
       "\n",
       "    .dataframe tbody tr th {\n",
       "        vertical-align: top;\n",
       "    }\n",
       "\n",
       "    .dataframe thead th {\n",
       "        text-align: right;\n",
       "    }\n",
       "</style>\n",
       "<table border=\"1\" class=\"dataframe\">\n",
       "  <thead>\n",
       "    <tr style=\"text-align: right;\">\n",
       "      <th></th>\n",
       "      <th>SEGMENTO</th>\n",
       "      <th>INGRESO_PROMEDIO</th>\n",
       "    </tr>\n",
       "  </thead>\n",
       "  <tbody>\n",
       "    <tr>\n",
       "      <th>0</th>\n",
       "      <td>CORPORATIVA</td>\n",
       "      <td>55,277,837.73</td>\n",
       "    </tr>\n",
       "    <tr>\n",
       "      <th>1</th>\n",
       "      <td>INSTITUCIONAL</td>\n",
       "      <td>14,515,978.35</td>\n",
       "    </tr>\n",
       "    <tr>\n",
       "      <th>2</th>\n",
       "      <td>JUNIOR</td>\n",
       "      <td>8,106,515.38</td>\n",
       "    </tr>\n",
       "    <tr>\n",
       "      <th>3</th>\n",
       "      <td>MULTINACIONAL</td>\n",
       "      <td>33,948,638.44</td>\n",
       "    </tr>\n",
       "    <tr>\n",
       "      <th>4</th>\n",
       "      <td>NEGOCIOS</td>\n",
       "      <td>9,794,992.33</td>\n",
       "    </tr>\n",
       "    <tr>\n",
       "      <th>5</th>\n",
       "      <td>NO_SEGMENTADOS</td>\n",
       "      <td>18,328,490.58</td>\n",
       "    </tr>\n",
       "    <tr>\n",
       "      <th>6</th>\n",
       "      <td>PYME</td>\n",
       "      <td>7,627,090.54</td>\n",
       "    </tr>\n",
       "    <tr>\n",
       "      <th>7</th>\n",
       "      <td>SENIOR</td>\n",
       "      <td>14,136,086.91</td>\n",
       "    </tr>\n",
       "  </tbody>\n",
       "</table>\n",
       "</div>"
      ],
      "text/plain": [
       "         SEGMENTO  INGRESO_PROMEDIO\n",
       "0     CORPORATIVA     55,277,837.73\n",
       "1   INSTITUCIONAL     14,515,978.35\n",
       "2          JUNIOR      8,106,515.38\n",
       "3   MULTINACIONAL     33,948,638.44\n",
       "4        NEGOCIOS      9,794,992.33\n",
       "5  NO_SEGMENTADOS     18,328,490.58\n",
       "6            PYME      7,627,090.54\n",
       "7          SENIOR     14,136,086.91"
      ]
     },
     "execution_count": 11,
     "metadata": {},
     "output_type": "execute_result"
    }
   ],
   "source": [
    "# Hallar el ingreso promedio (PXQ)\n",
    "unidos[\"INGRESO_PROMEDIO\"]= unidos[\"CANTIDAD\"]*unidos[\"PRECIO\"]\n",
    "ingreso_promedio = unidos.groupby(\"SEGMENTO\")[\"INGRESO_PROMEDIO\"].mean().reset_index()\n",
    "ingreso_promedio"
   ]
  },
  {
   "cell_type": "markdown",
   "metadata": {},
   "source": [
    "#### Parte 2:\n",
    "\n",
    "c) Calcule la cantidad total MENSUAL para clientes con \"SoW\" mayor a 60%\n",
    "\n",
    "Considere que el \"SoW\" mostrado en la tabla \"vinculacion.parquet\" se actualiza cada mes para cada cliente.\n",
    "\n",
    "d) Realice un gráfico sencillo que muestre sus resultados. (En caso utilice librerías, puede utilizar la de su preferencia)."
   ]
  },
  {
   "cell_type": "code",
   "execution_count": 12,
   "metadata": {},
   "outputs": [
    {
     "data": {
      "text/html": [
       "<div>\n",
       "<style scoped>\n",
       "    .dataframe tbody tr th:only-of-type {\n",
       "        vertical-align: middle;\n",
       "    }\n",
       "\n",
       "    .dataframe tbody tr th {\n",
       "        vertical-align: top;\n",
       "    }\n",
       "\n",
       "    .dataframe thead th {\n",
       "        text-align: right;\n",
       "    }\n",
       "</style>\n",
       "<table border=\"1\" class=\"dataframe\">\n",
       "  <thead>\n",
       "    <tr style=\"text-align: right;\">\n",
       "      <th></th>\n",
       "      <th>codclavecic</th>\n",
       "      <th>codmes</th>\n",
       "      <th>SoW</th>\n",
       "    </tr>\n",
       "  </thead>\n",
       "  <tbody>\n",
       "    <tr>\n",
       "      <th>0</th>\n",
       "      <td>7770924</td>\n",
       "      <td>202212</td>\n",
       "      <td>0.00</td>\n",
       "    </tr>\n",
       "    <tr>\n",
       "      <th>2</th>\n",
       "      <td>24800643</td>\n",
       "      <td>202212</td>\n",
       "      <td>0.08</td>\n",
       "    </tr>\n",
       "    <tr>\n",
       "      <th>5</th>\n",
       "      <td>21508521</td>\n",
       "      <td>202212</td>\n",
       "      <td>0.00</td>\n",
       "    </tr>\n",
       "    <tr>\n",
       "      <th>6</th>\n",
       "      <td>19335572</td>\n",
       "      <td>202212</td>\n",
       "      <td>1.00</td>\n",
       "    </tr>\n",
       "    <tr>\n",
       "      <th>7</th>\n",
       "      <td>32595</td>\n",
       "      <td>202212</td>\n",
       "      <td>0.00</td>\n",
       "    </tr>\n",
       "    <tr>\n",
       "      <th>8</th>\n",
       "      <td>7520199</td>\n",
       "      <td>202212</td>\n",
       "      <td>0.00</td>\n",
       "    </tr>\n",
       "  </tbody>\n",
       "</table>\n",
       "</div>"
      ],
      "text/plain": [
       "  codclavecic  codmes  SoW\n",
       "0     7770924  202212 0.00\n",
       "2    24800643  202212 0.08\n",
       "5    21508521  202212 0.00\n",
       "6    19335572  202212 1.00\n",
       "7       32595  202212 0.00\n",
       "8     7520199  202212 0.00"
      ]
     },
     "execution_count": 12,
     "metadata": {},
     "output_type": "execute_result"
    }
   ],
   "source": [
    "vinculacion.head(6)"
   ]
  },
  {
   "cell_type": "code",
   "execution_count": 13,
   "metadata": {},
   "outputs": [
    {
     "data": {
      "text/html": [
       "<div>\n",
       "<style scoped>\n",
       "    .dataframe tbody tr th:only-of-type {\n",
       "        vertical-align: middle;\n",
       "    }\n",
       "\n",
       "    .dataframe tbody tr th {\n",
       "        vertical-align: top;\n",
       "    }\n",
       "\n",
       "    .dataframe thead th {\n",
       "        text-align: right;\n",
       "    }\n",
       "</style>\n",
       "<table border=\"1\" class=\"dataframe\">\n",
       "  <thead>\n",
       "    <tr style=\"text-align: right;\">\n",
       "      <th></th>\n",
       "      <th>CODCLAVECIC</th>\n",
       "      <th>codmes</th>\n",
       "      <th>SoW</th>\n",
       "    </tr>\n",
       "  </thead>\n",
       "  <tbody>\n",
       "    <tr>\n",
       "      <th>6</th>\n",
       "      <td>19335572</td>\n",
       "      <td>202212</td>\n",
       "      <td>1</td>\n",
       "    </tr>\n",
       "    <tr>\n",
       "      <th>19</th>\n",
       "      <td>3589531</td>\n",
       "      <td>202212</td>\n",
       "      <td>0</td>\n",
       "    </tr>\n",
       "    <tr>\n",
       "      <th>21</th>\n",
       "      <td>4140804</td>\n",
       "      <td>202212</td>\n",
       "      <td>1</td>\n",
       "    </tr>\n",
       "    <tr>\n",
       "      <th>23</th>\n",
       "      <td>21476461</td>\n",
       "      <td>202212</td>\n",
       "      <td>1</td>\n",
       "    </tr>\n",
       "    <tr>\n",
       "      <th>30</th>\n",
       "      <td>3579927</td>\n",
       "      <td>202212</td>\n",
       "      <td>1</td>\n",
       "    </tr>\n",
       "  </tbody>\n",
       "</table>\n",
       "</div>"
      ],
      "text/plain": [
       "    CODCLAVECIC  codmes  SoW\n",
       "6      19335572  202212    1\n",
       "19      3589531  202212    0\n",
       "21      4140804  202212    1\n",
       "23     21476461  202212    1\n",
       "30      3579927  202212    1"
      ]
     },
     "execution_count": 13,
     "metadata": {},
     "output_type": "execute_result"
    }
   ],
   "source": [
    "filtrados=vinculacion[vinculacion[\"SoW\"]>0.6]\n",
    "filtrados=filtrados.rename(columns={\"codclavecic\":\"CODCLAVECIC\"}).astype(int)\n",
    "filtrados.head(5)"
   ]
  },
  {
   "cell_type": "code",
   "execution_count": 14,
   "metadata": {},
   "outputs": [
    {
     "data": {
      "text/html": [
       "<div>\n",
       "<style scoped>\n",
       "    .dataframe tbody tr th:only-of-type {\n",
       "        vertical-align: middle;\n",
       "    }\n",
       "\n",
       "    .dataframe tbody tr th {\n",
       "        vertical-align: top;\n",
       "    }\n",
       "\n",
       "    .dataframe thead th {\n",
       "        text-align: right;\n",
       "    }\n",
       "</style>\n",
       "<table border=\"1\" class=\"dataframe\">\n",
       "  <thead>\n",
       "    <tr style=\"text-align: right;\">\n",
       "      <th></th>\n",
       "      <th>codmes</th>\n",
       "      <th>CANTIDAD</th>\n",
       "    </tr>\n",
       "  </thead>\n",
       "  <tbody>\n",
       "    <tr>\n",
       "      <th>0</th>\n",
       "      <td>202201</td>\n",
       "      <td>3,198,651,843.79</td>\n",
       "    </tr>\n",
       "    <tr>\n",
       "      <th>1</th>\n",
       "      <td>202202</td>\n",
       "      <td>3,094,982,547.13</td>\n",
       "    </tr>\n",
       "  </tbody>\n",
       "</table>\n",
       "</div>"
      ],
      "text/plain": [
       "   codmes         CANTIDAD\n",
       "0  202201 3,198,651,843.79\n",
       "1  202202 3,094,982,547.13"
      ]
     },
     "execution_count": 14,
     "metadata": {},
     "output_type": "execute_result"
    }
   ],
   "source": [
    "cantidad_mensual=pd.merge(filtrados,operaciones,how=\"inner\",on=[\"CODCLAVECIC\"])\n",
    "cantidad_mensual=cantidad_mensual.groupby(\"codmes\")[\"CANTIDAD\"].sum().reset_index()\n",
    "cantidad_mensual.head(2)"
   ]
  },
  {
   "cell_type": "code",
   "execution_count": 15,
   "id": "2dab5e90",
   "metadata": {},
   "outputs": [
    {
     "data": {
      "image/png": "[encoded data removed]",
      "text/plain": [
       "<Figure size 1000x600 with 1 Axes>"
      ]
     },
     "metadata": {},
     "output_type": "display_data"
    }
   ],
   "source": [
    "cantidad_mensual[\"codmes\"] = pd.to_datetime(cantidad_mensual[\"codmes\"].astype(str), format=\"%Y%m\")\n",
    "cantidad_mensual[\"CANTIDAD\"]= cantidad_mensual[\"CANTIDAD\"]/1_000_000_000\n",
    "# Escogiendo tema \n",
    "sns.set_theme(style =\"whitegrid\")\n",
    "# Grafico de barras\n",
    "plt.figure(figsize=(10,6))\n",
    "sns.barplot(y=\"CANTIDAD\", x=\"codmes\", hue =\"codmes\", data=cantidad_mensual,palette=\"viridis\")\n",
    "# Configurar el eje x \n",
    "plt.xticks(range(len(cantidad_mensual[\"codmes\"])), cantidad_mensual[\"codmes\"].dt.strftime(\"%b\"))\n",
    "#Configuracion de titulos\n",
    "plt.title(\"Cantidad total por mes\")\n",
    "plt.xlabel(\"Mes\")\n",
    "plt.ylabel(\"Cantidad (en miles millones)\")\n",
    "plt.show()"
   ]
  },
  {
   "cell_type": "markdown",
   "metadata": {},
   "source": [
    "## Ejercicio 2"
   ]
  },
  {
   "attachments": {
    "Captura%20de%20Pantalla%202023-01-26%20a%20la%28s%29%2017.47.14.png": {
     "image/png": "[encoded data removed]"
    }
   },
   "cell_type": "markdown",
   "metadata": {},
   "source": [
    "#### Parte 1:\n",
    "\n",
    "a) Cree una función que calcule el VAN, a partir de un vector de \"flujos de caja\" y una tasa de descuento. Su función debe funcionar para vectores de diferentes dimensiones.\n",
    "\n",
    "La fórmula de VAN está dada por:\n",
    "\n",
    "![Captura%20de%20Pantalla%202023-01-26%20a%20la%28s%29%2017.47.14.png](attachment:Captura%20de%20Pantalla%202023-01-26%20a%20la%28s%29%2017.47.14.png)"
   ]
  },
  {
   "cell_type": "code",
   "execution_count": 16,
   "metadata": {},
   "outputs": [],
   "source": [
    "#Proyecto de ejemplo:\n",
    "vector_de_flujos = [-1900, 255, 227, 250, 158, 298, 199, 150, 169, 278, 188]\n",
    "tasa_de_descuento = 0.0146\n",
    "segmento = \"CONSUMO\""
   ]
  },
  {
   "cell_type": "code",
   "execution_count": 17,
   "metadata": {},
   "outputs": [
    {
     "name": "stdout",
     "output_type": "stream",
     "text": [
      "El valor del VAN es 112.56 para el segmento CONSUMO\n"
     ]
    }
   ],
   "source": [
    "def calcular_VAN(flujos, tasa_descuento):\n",
    "    VAN = round(sum([flujo/(1 + tasa_descuento)**indice for indice, flujo in enumerate(flujos)]),2)\n",
    "    return VAN\n",
    "\n",
    "print(f\"El valor del VAN es {calcular_VAN(vector_de_flujos,tasa_de_descuento)} para el segmento {segmento}\")"
   ]
  },
  {
   "cell_type": "markdown",
   "metadata": {},
   "source": [
    "#### Parte 2:\n",
    "\n",
    "b) Cree una función que señale si debemos aprobar un crédito, a partir de un vector de \"flujos de caja\" y el segmento del cliente. (Hint: utilice sus conocimientos financieros para definir el criterio a partir del valor del VAN).\n",
    "\n",
    "Considere que los segmentos \"BEX\" y \"ENALTA\" tienen una tasa de descuento de 0.0122; y el segmento \"CONSUMO\" de 0.0146"
   ]
  },
  {
   "cell_type": "code",
   "execution_count": 18,
   "metadata": {},
   "outputs": [
    {
     "name": "stdout",
     "output_type": "stream",
     "text": [
      "El credito debe ser aprobado\n"
     ]
    }
   ],
   "source": [
    "def aprobar_credito(flujos,segmento):\n",
    "    if segmento == \"BEX\" or \"ENALTA\":\n",
    "        tasa_descuento = 0.0122\n",
    "    else:\n",
    "        tasa_descuento = 0.0146 \n",
    "    VAN= round(sum([flujo/(1+ tasa_descuento)**indice for indice, flujo in enumerate(flujos)]),2)\n",
    "    if VAN >0:\n",
    "        return \"aprobado\"\n",
    "    else:\n",
    "        return \"desaprobado\"\n",
    "print(f\"El credito debe ser {aprobar_credito(vector_de_flujos,segmento)}\")"
   ]
  },
  {
   "cell_type": "markdown",
   "metadata": {},
   "source": [
    "#### Parte 3:\n",
    "\n",
    "c) Cree un vector de tasas entre 0% (0.0000) y 5% (0.0500) con incrementos de 10 puntos básicos entre ellas (Hint: 1 punto básico es igual a 0.0001).\n",
    "\n",
    "d) A partir de la función de la pregunta (a) y el vector de la pregunta (c); cree un gráfico que muestre la relación entre la tasa de descuento y el VAN. Use el proyecto de ejemplo en su respuesta. (En caso utilice librerías, puede utilizar la de su preferencia)."
   ]
  },
  {
   "cell_type": "code",
   "execution_count": 19,
   "metadata": {},
   "outputs": [
    {
     "data": {
      "text/plain": [
       "[0.0,\n",
       " 0.001,\n",
       " 0.002,\n",
       " 0.003,\n",
       " 0.004,\n",
       " 0.005,\n",
       " 0.006,\n",
       " 0.007,\n",
       " 0.008,\n",
       " 0.009,\n",
       " 0.01,\n",
       " 0.011,\n",
       " 0.012,\n",
       " 0.013,\n",
       " 0.014,\n",
       " 0.015,\n",
       " 0.016,\n",
       " 0.017,\n",
       " 0.018,\n",
       " 0.019,\n",
       " 0.02,\n",
       " 0.021,\n",
       " 0.022,\n",
       " 0.023,\n",
       " 0.024,\n",
       " 0.025,\n",
       " 0.026,\n",
       " 0.027,\n",
       " 0.028,\n",
       " 0.029,\n",
       " 0.03,\n",
       " 0.031,\n",
       " 0.032,\n",
       " 0.033,\n",
       " 0.034,\n",
       " 0.035,\n",
       " 0.036,\n",
       " 0.037,\n",
       " 0.038,\n",
       " 0.039,\n",
       " 0.04,\n",
       " 0.041,\n",
       " 0.042,\n",
       " 0.043,\n",
       " 0.044,\n",
       " 0.045,\n",
       " 0.046,\n",
       " 0.047,\n",
       " 0.048,\n",
       " 0.049,\n",
       " 0.05]"
      ]
     },
     "execution_count": 19,
     "metadata": {},
     "output_type": "execute_result"
    }
   ],
   "source": [
    "# Creando el vector de tasas y sus componentes \n",
    "tasas = []\n",
    "tasa_inicial = 0.0\n",
    "tasa_final = 0.051\n",
    "incremento = 0.0001*10 # incrementar cada 10 puntos básicos (1 punto básico es 0.0001)\n",
    "\n",
    "# Rellenando el vector \n",
    "def crear_vector(tasa_inicial, tasa_final, incremento):\n",
    "    tasa_actual = tasa_inicial\n",
    "    while tasa_actual <= tasa_final:\n",
    "        tasas.append(round(tasa_actual,3))\n",
    "        tasa_actual += incremento\n",
    "    return tasas \n",
    "TASAS = crear_vector(tasa_inicial, tasa_final, incremento)\n",
    "TASAS"
   ]
  },
  {
   "cell_type": "code",
   "execution_count": 21,
   "id": "033cd17e",
   "metadata": {},
   "outputs": [
    {
     "data": {
      "text/plain": [
       "[272.0,\n",
       " 260.49,\n",
       " 249.06,\n",
       " 237.73,\n",
       " 226.49,\n",
       " 215.33,\n",
       " 204.26,\n",
       " 193.28,\n",
       " 182.38,\n",
       " 171.57,\n",
       " 160.85,\n",
       " 150.2,\n",
       " 139.64,\n",
       " 129.16,\n",
       " 118.76,\n",
       " 108.44,\n",
       " 98.2,\n",
       " 88.04,\n",
       " 77.95,\n",
       " 67.95,\n",
       " 58.01,\n",
       " 48.16,\n",
       " 38.38,\n",
       " 28.67,\n",
       " 19.04,\n",
       " 9.48,\n",
       " -0.01,\n",
       " -9.42,\n",
       " -18.77,\n",
       " -28.04,\n",
       " -37.25,\n",
       " -46.38,\n",
       " -55.45,\n",
       " -64.45,\n",
       " -73.39,\n",
       " -82.25,\n",
       " -91.06,\n",
       " -99.79,\n",
       " -108.47,\n",
       " -117.07,\n",
       " -125.62,\n",
       " -134.1,\n",
       " -142.52,\n",
       " -150.88,\n",
       " -159.18,\n",
       " -167.41,\n",
       " -175.59,\n",
       " -183.71,\n",
       " -191.77,\n",
       " -199.77,\n",
       " -207.71]"
      ]
     },
     "execution_count": 21,
     "metadata": {},
     "output_type": "execute_result"
    }
   ],
   "source": [
    "# Calculando las VANS a partir de la lista de tasas\n",
    "def calcular_VANS(vector_tasas):\n",
    "    VANS = []\n",
    "    for tasa in vector_tasas:    \n",
    "        VANS.append(calcular_VAN(vector_de_flujos, tasa))\n",
    "    return VANS\n",
    "VANS= calcular_VANS(tasas)\n",
    "VANS"
   ]
  },
  {
   "cell_type": "code",
   "execution_count": 22,
   "metadata": {},
   "outputs": [
    {
     "data": {
      "text/plain": [
       "<function matplotlib.pyplot.show(close=None, block=None)>"
      ]
     },
     "execution_count": 22,
     "metadata": {},
     "output_type": "execute_result"
    },
    {
     "data": {
      "image/png": "[encoded data removed]",
      "text/plain": [
       "<Figure size 1000x600 with 1 Axes>"
      ]
     },
     "metadata": {},
     "output_type": "display_data"
    }
   ],
   "source": [
    "# Configurando grafico \n",
    "# El grafico evalua la relacion entre VAN (es la lista \"tasas\") y  la tasa de descuento (es la lista \"VANS\")\n",
    "df= pd.DataFrame({\"Van\":VANS,\n",
    "                  \"Tasa\":TASAS})\n",
    "pd.set_option('display.float_format', '{:.3f}'.format)\n",
    "plt.figure(figsize=(10,6))\n",
    "sns.scatterplot(x=\"Tasa\", y=\"Van\",data=df, color = \"blue\", marker=\"o\")\n",
    "\n",
    "# Configurando titulos\n",
    "plt.title(\"Relacion entre la Tasa de Descuento y el VAN\")\n",
    "plt.xlabel(\"Tasa de Descuento\")\n",
    "plt.ylabel(\"VAN\")\n",
    "plt.show\n"
   ]
  },
  {
   "cell_type": "markdown",
   "metadata": {},
   "source": [
    "#### Parte 4:\n",
    "\n",
    "e) La TIR se define como la tasa de descuento que hace que el VAN sea igual a cero. Aproximadamente, ¿cuál sería la TIR del proyecto de ejemplo? (Hint: puede apoyarse en el gráfico de la pregunta (c)).\n",
    "\n",
    "f) Cree una función que _aproxime_ la TIR, a partir de un vector de \"flujos de caja\". En esta pregunta hay libertad creativa; puede incluir más argumentos en su función si lo considera necesario. Indique las limitaciones de su función. (Hint: no necesita usar librerías de optimización)."
   ]
  },
  {
   "cell_type": "code",
   "execution_count": 23,
   "metadata": {},
   "outputs": [
    {
     "data": {
      "text/html": [
       "<div>\n",
       "<style scoped>\n",
       "    .dataframe tbody tr th:only-of-type {\n",
       "        vertical-align: middle;\n",
       "    }\n",
       "\n",
       "    .dataframe tbody tr th {\n",
       "        vertical-align: top;\n",
       "    }\n",
       "\n",
       "    .dataframe thead th {\n",
       "        text-align: right;\n",
       "    }\n",
       "</style>\n",
       "<table border=\"1\" class=\"dataframe\">\n",
       "  <thead>\n",
       "    <tr style=\"text-align: right;\">\n",
       "      <th></th>\n",
       "      <th>Van</th>\n",
       "      <th>Tasa</th>\n",
       "    </tr>\n",
       "  </thead>\n",
       "  <tbody>\n",
       "    <tr>\n",
       "      <th>24</th>\n",
       "      <td>19.040</td>\n",
       "      <td>0.024</td>\n",
       "    </tr>\n",
       "    <tr>\n",
       "      <th>25</th>\n",
       "      <td>9.480</td>\n",
       "      <td>0.025</td>\n",
       "    </tr>\n",
       "    <tr>\n",
       "      <th>26</th>\n",
       "      <td>-0.010</td>\n",
       "      <td>0.026</td>\n",
       "    </tr>\n",
       "    <tr>\n",
       "      <th>27</th>\n",
       "      <td>-9.420</td>\n",
       "      <td>0.027</td>\n",
       "    </tr>\n",
       "    <tr>\n",
       "      <th>28</th>\n",
       "      <td>-18.770</td>\n",
       "      <td>0.028</td>\n",
       "    </tr>\n",
       "    <tr>\n",
       "      <th>29</th>\n",
       "      <td>-28.040</td>\n",
       "      <td>0.029</td>\n",
       "    </tr>\n",
       "    <tr>\n",
       "      <th>30</th>\n",
       "      <td>-37.250</td>\n",
       "      <td>0.030</td>\n",
       "    </tr>\n",
       "    <tr>\n",
       "      <th>31</th>\n",
       "      <td>-46.380</td>\n",
       "      <td>0.031</td>\n",
       "    </tr>\n",
       "    <tr>\n",
       "      <th>32</th>\n",
       "      <td>-55.450</td>\n",
       "      <td>0.032</td>\n",
       "    </tr>\n",
       "    <tr>\n",
       "      <th>33</th>\n",
       "      <td>-64.450</td>\n",
       "      <td>0.033</td>\n",
       "    </tr>\n",
       "    <tr>\n",
       "      <th>34</th>\n",
       "      <td>-73.390</td>\n",
       "      <td>0.034</td>\n",
       "    </tr>\n",
       "    <tr>\n",
       "      <th>35</th>\n",
       "      <td>-82.250</td>\n",
       "      <td>0.035</td>\n",
       "    </tr>\n",
       "    <tr>\n",
       "      <th>36</th>\n",
       "      <td>-91.060</td>\n",
       "      <td>0.036</td>\n",
       "    </tr>\n",
       "    <tr>\n",
       "      <th>37</th>\n",
       "      <td>-99.790</td>\n",
       "      <td>0.037</td>\n",
       "    </tr>\n",
       "    <tr>\n",
       "      <th>38</th>\n",
       "      <td>-108.470</td>\n",
       "      <td>0.038</td>\n",
       "    </tr>\n",
       "    <tr>\n",
       "      <th>39</th>\n",
       "      <td>-117.070</td>\n",
       "      <td>0.039</td>\n",
       "    </tr>\n",
       "    <tr>\n",
       "      <th>40</th>\n",
       "      <td>-125.620</td>\n",
       "      <td>0.040</td>\n",
       "    </tr>\n",
       "    <tr>\n",
       "      <th>41</th>\n",
       "      <td>-134.100</td>\n",
       "      <td>0.041</td>\n",
       "    </tr>\n",
       "    <tr>\n",
       "      <th>42</th>\n",
       "      <td>-142.520</td>\n",
       "      <td>0.042</td>\n",
       "    </tr>\n",
       "    <tr>\n",
       "      <th>43</th>\n",
       "      <td>-150.880</td>\n",
       "      <td>0.043</td>\n",
       "    </tr>\n",
       "    <tr>\n",
       "      <th>44</th>\n",
       "      <td>-159.180</td>\n",
       "      <td>0.044</td>\n",
       "    </tr>\n",
       "    <tr>\n",
       "      <th>45</th>\n",
       "      <td>-167.410</td>\n",
       "      <td>0.045</td>\n",
       "    </tr>\n",
       "    <tr>\n",
       "      <th>46</th>\n",
       "      <td>-175.590</td>\n",
       "      <td>0.046</td>\n",
       "    </tr>\n",
       "    <tr>\n",
       "      <th>47</th>\n",
       "      <td>-183.710</td>\n",
       "      <td>0.047</td>\n",
       "    </tr>\n",
       "    <tr>\n",
       "      <th>48</th>\n",
       "      <td>-191.770</td>\n",
       "      <td>0.048</td>\n",
       "    </tr>\n",
       "    <tr>\n",
       "      <th>49</th>\n",
       "      <td>-199.770</td>\n",
       "      <td>0.049</td>\n",
       "    </tr>\n",
       "    <tr>\n",
       "      <th>50</th>\n",
       "      <td>-207.710</td>\n",
       "      <td>0.050</td>\n",
       "    </tr>\n",
       "  </tbody>\n",
       "</table>\n",
       "</div>"
      ],
      "text/plain": [
       "        Van  Tasa\n",
       "24   19.040 0.024\n",
       "25    9.480 0.025\n",
       "26   -0.010 0.026\n",
       "27   -9.420 0.027\n",
       "28  -18.770 0.028\n",
       "29  -28.040 0.029\n",
       "30  -37.250 0.030\n",
       "31  -46.380 0.031\n",
       "32  -55.450 0.032\n",
       "33  -64.450 0.033\n",
       "34  -73.390 0.034\n",
       "35  -82.250 0.035\n",
       "36  -91.060 0.036\n",
       "37  -99.790 0.037\n",
       "38 -108.470 0.038\n",
       "39 -117.070 0.039\n",
       "40 -125.620 0.040\n",
       "41 -134.100 0.041\n",
       "42 -142.520 0.042\n",
       "43 -150.880 0.043\n",
       "44 -159.180 0.044\n",
       "45 -167.410 0.045\n",
       "46 -175.590 0.046\n",
       "47 -183.710 0.047\n",
       "48 -191.770 0.048\n",
       "49 -199.770 0.049\n",
       "50 -207.710 0.050"
      ]
     },
     "execution_count": 23,
     "metadata": {},
     "output_type": "execute_result"
    }
   ],
   "source": [
    "# Observando las tasas y el Van\n",
    "df_TIR = df[df[\"Van\"] <= 19.04]\n",
    "df_TIR\n",
    "# Como se observa en el DataFrame la tasa que mas se aproxima a ser el TIR o aquella tasa que vuelva cero al van es una tasa entre 0.025 y 0.026"
   ]
  },
  {
   "cell_type": "code",
   "execution_count": 28,
   "id": "36a69244",
   "metadata": {},
   "outputs": [
    {
     "name": "stdout",
     "output_type": "stream",
     "text": [
      "0.025999999999999995\n"
     ]
    }
   ],
   "source": [
    "#tasa_inicial = 0.025\n",
    "#tasa_final = 0.026\n",
    "#incremento = 0.0001\n",
    "\n",
    "def aproxime_TIR(flujos_caja, tasa_inicial, tasa_final, incremento):\n",
    "    tasa_actual = tasa_inicial\n",
    "    while tasa_actual <= tasa_final:\n",
    "        VAN = sum([flujo/(1+ tasa_actual)**indice for indice, flujo in enumerate(flujos_caja)])\n",
    "        if abs(VAN)< 0.01:\n",
    "            return tasa_actual\n",
    "        tasa_actual += incremento  \n",
    "    return None\n",
    "TIR =aproxime_TIR(vector_de_flujos,0.025,0.026,0.0001)\n",
    "print(TIR)"
   ]
  }
 ],
 "metadata": {
  "kernelspec": {
   "display_name": ".env",
   "language": "python",
   "name": ".env"
  },
  "language_info": {
   "codemirror_mode": {
    "name": "ipython",
    "version": 3
   },
   "file_extension": ".py",
   "mimetype": "text/x-python",
   "name": "python",
   "nbconvert_exporter": "python",
   "pygments_lexer": "ipython3",
   "version": "3.12.0"
  }
 },
 "nbformat": 4,
 "nbformat_minor": 5
}
