{
 "cells": [
  {
   "cell_type": "code",
   "execution_count": 82,
   "metadata": {},
   "outputs": [],
   "source": [
    "# Librerias\n",
    "import pandas as pd\n",
    "import numpy as np\n",
    "import matplotlib.pyplot as plt\n",
    "import seaborn as sns\n",
    "pd.options.display.float_format = '{:,.2f}'.format\n",
    "import warnings\n",
    "warnings.filterwarnings('ignore')"
   ]
  },
  {
   "cell_type": "markdown",
   "metadata": {},
   "source": [
    "## Archivos proporcionados"
   ]
  },
  {
   "cell_type": "markdown",
   "metadata": {},
   "source": [
    "En el primer archivo \"operaciones.csv\" están las operaciones realizadas por los clientes (identificados por la columna CODCLAVECIC), la cantidad de dólares cambiados y el precio al que se cambiaron. **Además contiene la fecha y hora en la que se realizó cada operación.**\n",
    "\n",
    "El segundo archivo \"segmentos.xlsx\" contiene la información de a qué SEGMENTO pertenece cada cliente de la tabla \"operaciones.csv\".\n",
    "\n",
    "El tercer archivo \"vinculacion.parquet\" contiene un indicador del nivel de vinculacion del cliente con el BCP que se actualiza todos los meses."
   ]
  },
  {
   "cell_type": "code",
   "execution_count": 62,
   "metadata": {},
   "outputs": [
    {
     "data": {
      "text/html": [
       "<div>\n",
       "<style scoped>\n",
       "    .dataframe tbody tr th:only-of-type {\n",
       "        vertical-align: middle;\n",
       "    }\n",
       "\n",
       "    .dataframe tbody tr th {\n",
       "        vertical-align: top;\n",
       "    }\n",
       "\n",
       "    .dataframe thead th {\n",
       "        text-align: right;\n",
       "    }\n",
       "</style>\n",
       "<table border=\"1\" class=\"dataframe\">\n",
       "  <thead>\n",
       "    <tr style=\"text-align: right;\">\n",
       "      <th></th>\n",
       "      <th>CODCLAVECIC</th>\n",
       "      <th>FECHA</th>\n",
       "      <th>HORA</th>\n",
       "      <th>CANTIDAD</th>\n",
       "      <th>PRECIO</th>\n",
       "    </tr>\n",
       "  </thead>\n",
       "  <tbody>\n",
       "    <tr>\n",
       "      <th>0</th>\n",
       "      <td>14500</td>\n",
       "      <td>01/03/22</td>\n",
       "      <td>08:51:03</td>\n",
       "      <td>2,000,000.00</td>\n",
       "      <td>20.00</td>\n",
       "    </tr>\n",
       "    <tr>\n",
       "      <th>1</th>\n",
       "      <td>2705162</td>\n",
       "      <td>01/03/22</td>\n",
       "      <td>09:01:44</td>\n",
       "      <td>100,000.00</td>\n",
       "      <td>60.00</td>\n",
       "    </tr>\n",
       "    <tr>\n",
       "      <th>2</th>\n",
       "      <td>47638</td>\n",
       "      <td>01/03/22</td>\n",
       "      <td>09:02:58</td>\n",
       "      <td>120,000.00</td>\n",
       "      <td>250.00</td>\n",
       "    </tr>\n",
       "    <tr>\n",
       "      <th>3</th>\n",
       "      <td>1570837</td>\n",
       "      <td>01/03/22</td>\n",
       "      <td>09:03:28</td>\n",
       "      <td>5,000.00</td>\n",
       "      <td>220.00</td>\n",
       "    </tr>\n",
       "    <tr>\n",
       "      <th>4</th>\n",
       "      <td>83580</td>\n",
       "      <td>01/03/22</td>\n",
       "      <td>09:06:16</td>\n",
       "      <td>5,000.00</td>\n",
       "      <td>300.00</td>\n",
       "    </tr>\n",
       "  </tbody>\n",
       "</table>\n",
       "</div>"
      ],
      "text/plain": [
       "   CODCLAVECIC     FECHA      HORA     CANTIDAD  PRECIO\n",
       "0        14500  01/03/22  08:51:03 2,000,000.00   20.00\n",
       "1      2705162  01/03/22  09:01:44   100,000.00   60.00\n",
       "2        47638  01/03/22  09:02:58   120,000.00  250.00\n",
       "3      1570837  01/03/22  09:03:28     5,000.00  220.00\n",
       "4        83580  01/03/22  09:06:16     5,000.00  300.00"
      ]
     },
     "execution_count": 62,
     "metadata": {},
     "output_type": "execute_result"
    }
   ],
   "source": [
    "operaciones=pd.read_csv('operaciones.csv',sep=',')\n",
    "operaciones.head()"
   ]
  },
  {
   "cell_type": "code",
   "execution_count": 63,
   "metadata": {},
   "outputs": [
    {
     "data": {
      "text/html": [
       "<div>\n",
       "<style scoped>\n",
       "    .dataframe tbody tr th:only-of-type {\n",
       "        vertical-align: middle;\n",
       "    }\n",
       "\n",
       "    .dataframe tbody tr th {\n",
       "        vertical-align: top;\n",
       "    }\n",
       "\n",
       "    .dataframe thead th {\n",
       "        text-align: right;\n",
       "    }\n",
       "</style>\n",
       "<table border=\"1\" class=\"dataframe\">\n",
       "  <thead>\n",
       "    <tr style=\"text-align: right;\">\n",
       "      <th></th>\n",
       "      <th>CODCLAVECIC</th>\n",
       "      <th>SEGMENTO</th>\n",
       "    </tr>\n",
       "  </thead>\n",
       "  <tbody>\n",
       "    <tr>\n",
       "      <th>0</th>\n",
       "      <td>24640513</td>\n",
       "      <td>PYME</td>\n",
       "    </tr>\n",
       "    <tr>\n",
       "      <th>1</th>\n",
       "      <td>9164066</td>\n",
       "      <td>NEGOCIOS</td>\n",
       "    </tr>\n",
       "    <tr>\n",
       "      <th>2</th>\n",
       "      <td>137683</td>\n",
       "      <td>PYME</td>\n",
       "    </tr>\n",
       "    <tr>\n",
       "      <th>3</th>\n",
       "      <td>7907034</td>\n",
       "      <td>PYME</td>\n",
       "    </tr>\n",
       "    <tr>\n",
       "      <th>4</th>\n",
       "      <td>7651274</td>\n",
       "      <td>PYME</td>\n",
       "    </tr>\n",
       "  </tbody>\n",
       "</table>\n",
       "</div>"
      ],
      "text/plain": [
       "   CODCLAVECIC  SEGMENTO\n",
       "0     24640513      PYME\n",
       "1      9164066  NEGOCIOS\n",
       "2       137683      PYME\n",
       "3      7907034      PYME\n",
       "4      7651274      PYME"
      ]
     },
     "execution_count": 63,
     "metadata": {},
     "output_type": "execute_result"
    }
   ],
   "source": [
    "segmentos=pd.read_excel('segmentos.xlsx')\n",
    "segmentos.head()"
   ]
  },
  {
   "cell_type": "code",
   "execution_count": 64,
   "id": "af6acbf5",
   "metadata": {},
   "outputs": [
    {
     "data": {
      "text/html": [
       "<div>\n",
       "<style scoped>\n",
       "    .dataframe tbody tr th:only-of-type {\n",
       "        vertical-align: middle;\n",
       "    }\n",
       "\n",
       "    .dataframe tbody tr th {\n",
       "        vertical-align: top;\n",
       "    }\n",
       "\n",
       "    .dataframe thead th {\n",
       "        text-align: right;\n",
       "    }\n",
       "</style>\n",
       "<table border=\"1\" class=\"dataframe\">\n",
       "  <thead>\n",
       "    <tr style=\"text-align: right;\">\n",
       "      <th></th>\n",
       "      <th>codclavecic</th>\n",
       "      <th>codmes</th>\n",
       "      <th>SoW</th>\n",
       "    </tr>\n",
       "  </thead>\n",
       "  <tbody>\n",
       "    <tr>\n",
       "      <th>0</th>\n",
       "      <td>7770924</td>\n",
       "      <td>202212</td>\n",
       "      <td>0.00</td>\n",
       "    </tr>\n",
       "    <tr>\n",
       "      <th>2</th>\n",
       "      <td>24800643</td>\n",
       "      <td>202212</td>\n",
       "      <td>0.08</td>\n",
       "    </tr>\n",
       "    <tr>\n",
       "      <th>5</th>\n",
       "      <td>21508521</td>\n",
       "      <td>202212</td>\n",
       "      <td>0.00</td>\n",
       "    </tr>\n",
       "    <tr>\n",
       "      <th>6</th>\n",
       "      <td>19335572</td>\n",
       "      <td>202212</td>\n",
       "      <td>1.00</td>\n",
       "    </tr>\n",
       "    <tr>\n",
       "      <th>7</th>\n",
       "      <td>32595</td>\n",
       "      <td>202212</td>\n",
       "      <td>0.00</td>\n",
       "    </tr>\n",
       "  </tbody>\n",
       "</table>\n",
       "</div>"
      ],
      "text/plain": [
       "  codclavecic  codmes  SoW\n",
       "0     7770924  202212 0.00\n",
       "2    24800643  202212 0.08\n",
       "5    21508521  202212 0.00\n",
       "6    19335572  202212 1.00\n",
       "7       32595  202212 0.00"
      ]
     },
     "execution_count": 64,
     "metadata": {},
     "output_type": "execute_result"
    }
   ],
   "source": [
    "vinculacion=pd.read_parquet('vinculacion.parquet')\n",
    "vinculacion.head()"
   ]
  },
  {
   "cell_type": "markdown",
   "metadata": {},
   "source": [
    "## Ejercicio 1"
   ]
  },
  {
   "cell_type": "markdown",
   "metadata": {},
   "source": [
    "#### Parte 1:\n",
    "\n",
    "a) Lea los archivos proporcionados.\n",
    "\n",
    "b) Calcule (i) la cantidad total y (ii) el ingreso promedio para cada segmento de clientes (Hint: el ingreso se calcula como PxQ).\n",
    "\n",
    "Los clientes de la tabla \"operaciones.csv\" que NO aparecen en la tabla de \"segmentos.xlsx\" son \"NO SEGMENTADOS\".\n",
    " "
   ]
  },
  {
   "cell_type": "code",
   "execution_count": 65,
   "metadata": {},
   "outputs": [
    {
     "data": {
      "text/html": [
       "<div>\n",
       "<style scoped>\n",
       "    .dataframe tbody tr th:only-of-type {\n",
       "        vertical-align: middle;\n",
       "    }\n",
       "\n",
       "    .dataframe tbody tr th {\n",
       "        vertical-align: top;\n",
       "    }\n",
       "\n",
       "    .dataframe thead th {\n",
       "        text-align: right;\n",
       "    }\n",
       "</style>\n",
       "<table border=\"1\" class=\"dataframe\">\n",
       "  <thead>\n",
       "    <tr style=\"text-align: right;\">\n",
       "      <th></th>\n",
       "      <th>CODCLAVECIC</th>\n",
       "      <th>FECHA</th>\n",
       "      <th>HORA</th>\n",
       "      <th>CANTIDAD</th>\n",
       "      <th>PRECIO</th>\n",
       "      <th>SEGMENTO</th>\n",
       "      <th>Hint</th>\n",
       "    </tr>\n",
       "  </thead>\n",
       "  <tbody>\n",
       "    <tr>\n",
       "      <th>0</th>\n",
       "      <td>14500</td>\n",
       "      <td>01/03/22</td>\n",
       "      <td>08:51:03</td>\n",
       "      <td>2,000,000.00</td>\n",
       "      <td>20.00</td>\n",
       "      <td>CORPORATIVA</td>\n",
       "      <td>40,000,000.00</td>\n",
       "    </tr>\n",
       "    <tr>\n",
       "      <th>1</th>\n",
       "      <td>2705162</td>\n",
       "      <td>01/03/22</td>\n",
       "      <td>09:01:44</td>\n",
       "      <td>100,000.00</td>\n",
       "      <td>60.00</td>\n",
       "      <td>SENIOR</td>\n",
       "      <td>6,000,000.00</td>\n",
       "    </tr>\n",
       "    <tr>\n",
       "      <th>2</th>\n",
       "      <td>47638</td>\n",
       "      <td>01/03/22</td>\n",
       "      <td>09:02:58</td>\n",
       "      <td>120,000.00</td>\n",
       "      <td>250.00</td>\n",
       "      <td>NEGOCIOS</td>\n",
       "      <td>30,000,000.00</td>\n",
       "    </tr>\n",
       "    <tr>\n",
       "      <th>3</th>\n",
       "      <td>1570837</td>\n",
       "      <td>01/03/22</td>\n",
       "      <td>09:03:28</td>\n",
       "      <td>5,000.00</td>\n",
       "      <td>220.00</td>\n",
       "      <td>JUNIOR</td>\n",
       "      <td>1,100,000.00</td>\n",
       "    </tr>\n",
       "    <tr>\n",
       "      <th>4</th>\n",
       "      <td>83580</td>\n",
       "      <td>01/03/22</td>\n",
       "      <td>09:06:16</td>\n",
       "      <td>5,000.00</td>\n",
       "      <td>300.00</td>\n",
       "      <td>NEGOCIOS</td>\n",
       "      <td>1,500,000.00</td>\n",
       "    </tr>\n",
       "  </tbody>\n",
       "</table>\n",
       "</div>"
      ],
      "text/plain": [
       "   CODCLAVECIC     FECHA      HORA     CANTIDAD  PRECIO     SEGMENTO  \\\n",
       "0        14500  01/03/22  08:51:03 2,000,000.00   20.00  CORPORATIVA   \n",
       "1      2705162  01/03/22  09:01:44   100,000.00   60.00       SENIOR   \n",
       "2        47638  01/03/22  09:02:58   120,000.00  250.00     NEGOCIOS   \n",
       "3      1570837  01/03/22  09:03:28     5,000.00  220.00       JUNIOR   \n",
       "4        83580  01/03/22  09:06:16     5,000.00  300.00     NEGOCIOS   \n",
       "\n",
       "           Hint  \n",
       "0 40,000,000.00  \n",
       "1  6,000,000.00  \n",
       "2 30,000,000.00  \n",
       "3  1,100,000.00  \n",
       "4  1,500,000.00  "
      ]
     },
     "execution_count": 65,
     "metadata": {},
     "output_type": "execute_result"
    }
   ],
   "source": [
    "resultado = pd.merge(operaciones, segmentos, on='CODCLAVECIC', how='inner')\n",
    "resultado['Hint']=resultado['CANTIDAD']*resultado['PRECIO']\n",
    "resultado.head()"
   ]
  },
  {
   "cell_type": "code",
   "execution_count": 66,
   "metadata": {},
   "outputs": [
    {
     "data": {
      "text/html": [
       "<div>\n",
       "<style scoped>\n",
       "    .dataframe tbody tr th:only-of-type {\n",
       "        vertical-align: middle;\n",
       "    }\n",
       "\n",
       "    .dataframe tbody tr th {\n",
       "        vertical-align: top;\n",
       "    }\n",
       "\n",
       "    .dataframe thead th {\n",
       "        text-align: right;\n",
       "    }\n",
       "</style>\n",
       "<table border=\"1\" class=\"dataframe\">\n",
       "  <thead>\n",
       "    <tr style=\"text-align: right;\">\n",
       "      <th></th>\n",
       "      <th>SEGMENTO</th>\n",
       "      <th>CANTIDAD</th>\n",
       "    </tr>\n",
       "  </thead>\n",
       "  <tbody>\n",
       "    <tr>\n",
       "      <th>0</th>\n",
       "      <td>CORPORATIVA</td>\n",
       "      <td>1,936,965,338.71</td>\n",
       "    </tr>\n",
       "    <tr>\n",
       "      <th>1</th>\n",
       "      <td>INSTITUCIONAL</td>\n",
       "      <td>194,675,814.16</td>\n",
       "    </tr>\n",
       "    <tr>\n",
       "      <th>2</th>\n",
       "      <td>JUNIOR</td>\n",
       "      <td>1,226,068,516.29</td>\n",
       "    </tr>\n",
       "    <tr>\n",
       "      <th>3</th>\n",
       "      <td>MULTINACIONAL</td>\n",
       "      <td>678,133,346.33</td>\n",
       "    </tr>\n",
       "    <tr>\n",
       "      <th>4</th>\n",
       "      <td>NEGOCIOS</td>\n",
       "      <td>1,233,981,637.72</td>\n",
       "    </tr>\n",
       "  </tbody>\n",
       "</table>\n",
       "</div>"
      ],
      "text/plain": [
       "        SEGMENTO         CANTIDAD\n",
       "0    CORPORATIVA 1,936,965,338.71\n",
       "1  INSTITUCIONAL   194,675,814.16\n",
       "2         JUNIOR 1,226,068,516.29\n",
       "3  MULTINACIONAL   678,133,346.33\n",
       "4       NEGOCIOS 1,233,981,637.72"
      ]
     },
     "execution_count": 66,
     "metadata": {},
     "output_type": "execute_result"
    }
   ],
   "source": [
    "# la cantidad total\n",
    "cantidad_total=resultado.groupby('SEGMENTO')['CANTIDAD'].sum()\n",
    "cantidad_total=pd.DataFrame(cantidad_total)\n",
    "cantidad_total.reset_index(inplace=True)\n",
    "cantidad_total.head()"
   ]
  },
  {
   "cell_type": "code",
   "execution_count": 67,
   "id": "23c6c2ac",
   "metadata": {},
   "outputs": [
    {
     "data": {
      "text/html": [
       "<div>\n",
       "<style scoped>\n",
       "    .dataframe tbody tr th:only-of-type {\n",
       "        vertical-align: middle;\n",
       "    }\n",
       "\n",
       "    .dataframe tbody tr th {\n",
       "        vertical-align: top;\n",
       "    }\n",
       "\n",
       "    .dataframe thead th {\n",
       "        text-align: right;\n",
       "    }\n",
       "</style>\n",
       "<table border=\"1\" class=\"dataframe\">\n",
       "  <thead>\n",
       "    <tr style=\"text-align: right;\">\n",
       "      <th></th>\n",
       "      <th>SEGMENTO</th>\n",
       "      <th>Hint</th>\n",
       "    </tr>\n",
       "  </thead>\n",
       "  <tbody>\n",
       "    <tr>\n",
       "      <th>0</th>\n",
       "      <td>CORPORATIVA</td>\n",
       "      <td>55,277,837.73</td>\n",
       "    </tr>\n",
       "    <tr>\n",
       "      <th>1</th>\n",
       "      <td>INSTITUCIONAL</td>\n",
       "      <td>14,515,978.35</td>\n",
       "    </tr>\n",
       "    <tr>\n",
       "      <th>2</th>\n",
       "      <td>JUNIOR</td>\n",
       "      <td>8,106,515.38</td>\n",
       "    </tr>\n",
       "    <tr>\n",
       "      <th>3</th>\n",
       "      <td>MULTINACIONAL</td>\n",
       "      <td>33,948,638.44</td>\n",
       "    </tr>\n",
       "    <tr>\n",
       "      <th>4</th>\n",
       "      <td>NEGOCIOS</td>\n",
       "      <td>9,794,992.33</td>\n",
       "    </tr>\n",
       "  </tbody>\n",
       "</table>\n",
       "</div>"
      ],
      "text/plain": [
       "        SEGMENTO          Hint\n",
       "0    CORPORATIVA 55,277,837.73\n",
       "1  INSTITUCIONAL 14,515,978.35\n",
       "2         JUNIOR  8,106,515.38\n",
       "3  MULTINACIONAL 33,948,638.44\n",
       "4       NEGOCIOS  9,794,992.33"
      ]
     },
     "execution_count": 67,
     "metadata": {},
     "output_type": "execute_result"
    }
   ],
   "source": [
    "# Promedio total\n",
    "promedio_total=resultado.groupby('SEGMENTO')['Hint'].mean()\n",
    "promedio_total=pd.DataFrame(promedio_total)\n",
    "promedio_total.reset_index(inplace=True)\n",
    "promedio_total.head()"
   ]
  },
  {
   "cell_type": "code",
   "execution_count": 68,
   "id": "95968d45",
   "metadata": {},
   "outputs": [
    {
     "data": {
      "text/html": [
       "<div>\n",
       "<style scoped>\n",
       "    .dataframe tbody tr th:only-of-type {\n",
       "        vertical-align: middle;\n",
       "    }\n",
       "\n",
       "    .dataframe tbody tr th {\n",
       "        vertical-align: top;\n",
       "    }\n",
       "\n",
       "    .dataframe thead th {\n",
       "        text-align: right;\n",
       "    }\n",
       "</style>\n",
       "<table border=\"1\" class=\"dataframe\">\n",
       "  <thead>\n",
       "    <tr style=\"text-align: right;\">\n",
       "      <th></th>\n",
       "      <th>SEGMENTO</th>\n",
       "      <th>CANTIDAD</th>\n",
       "      <th>Hint</th>\n",
       "    </tr>\n",
       "  </thead>\n",
       "  <tbody>\n",
       "    <tr>\n",
       "      <th>0</th>\n",
       "      <td>CORPORATIVA</td>\n",
       "      <td>1,936,965,338.71</td>\n",
       "      <td>55,277,837.73</td>\n",
       "    </tr>\n",
       "    <tr>\n",
       "      <th>1</th>\n",
       "      <td>INSTITUCIONAL</td>\n",
       "      <td>194,675,814.16</td>\n",
       "      <td>14,515,978.35</td>\n",
       "    </tr>\n",
       "    <tr>\n",
       "      <th>2</th>\n",
       "      <td>JUNIOR</td>\n",
       "      <td>1,226,068,516.29</td>\n",
       "      <td>8,106,515.38</td>\n",
       "    </tr>\n",
       "    <tr>\n",
       "      <th>3</th>\n",
       "      <td>MULTINACIONAL</td>\n",
       "      <td>678,133,346.33</td>\n",
       "      <td>33,948,638.44</td>\n",
       "    </tr>\n",
       "    <tr>\n",
       "      <th>4</th>\n",
       "      <td>NEGOCIOS</td>\n",
       "      <td>1,233,981,637.72</td>\n",
       "      <td>9,794,992.33</td>\n",
       "    </tr>\n",
       "  </tbody>\n",
       "</table>\n",
       "</div>"
      ],
      "text/plain": [
       "        SEGMENTO         CANTIDAD          Hint\n",
       "0    CORPORATIVA 1,936,965,338.71 55,277,837.73\n",
       "1  INSTITUCIONAL   194,675,814.16 14,515,978.35\n",
       "2         JUNIOR 1,226,068,516.29  8,106,515.38\n",
       "3  MULTINACIONAL   678,133,346.33 33,948,638.44\n",
       "4       NEGOCIOS 1,233,981,637.72  9,794,992.33"
      ]
     },
     "execution_count": 68,
     "metadata": {},
     "output_type": "execute_result"
    }
   ],
   "source": [
    "pregunta_b = pd.merge(cantidad_total, promedio_total, on='SEGMENTO', how='inner')\n",
    "pregunta_b.head()"
   ]
  },
  {
   "cell_type": "markdown",
   "metadata": {},
   "source": [
    "#### Parte 2:\n",
    "\n",
    "c) Calcule la cantidad total MENSUAL para clientes con \"SoW\" mayor a 60%\n",
    "\n",
    "Considere que el \"SoW\" mostrado en la tabla \"vinculacion.parquet\" se actualiza cada mes para cada cliente.\n",
    "\n",
    "d) Realice un gráfico sencillo que muestre sus resultados. (En caso utilice librerías, puede utilizar la de su preferencia)."
   ]
  },
  {
   "cell_type": "code",
   "execution_count": 69,
   "metadata": {},
   "outputs": [
    {
     "data": {
      "text/html": [
       "<div>\n",
       "<style scoped>\n",
       "    .dataframe tbody tr th:only-of-type {\n",
       "        vertical-align: middle;\n",
       "    }\n",
       "\n",
       "    .dataframe tbody tr th {\n",
       "        vertical-align: top;\n",
       "    }\n",
       "\n",
       "    .dataframe thead th {\n",
       "        text-align: right;\n",
       "    }\n",
       "</style>\n",
       "<table border=\"1\" class=\"dataframe\">\n",
       "  <thead>\n",
       "    <tr style=\"text-align: right;\">\n",
       "      <th></th>\n",
       "      <th>CODCLAVECIC</th>\n",
       "      <th>codmes</th>\n",
       "      <th>SoW</th>\n",
       "    </tr>\n",
       "  </thead>\n",
       "  <tbody>\n",
       "    <tr>\n",
       "      <th>0</th>\n",
       "      <td>7770924</td>\n",
       "      <td>202212</td>\n",
       "      <td>0.00</td>\n",
       "    </tr>\n",
       "    <tr>\n",
       "      <th>2</th>\n",
       "      <td>24800643</td>\n",
       "      <td>202212</td>\n",
       "      <td>0.08</td>\n",
       "    </tr>\n",
       "    <tr>\n",
       "      <th>5</th>\n",
       "      <td>21508521</td>\n",
       "      <td>202212</td>\n",
       "      <td>0.00</td>\n",
       "    </tr>\n",
       "    <tr>\n",
       "      <th>6</th>\n",
       "      <td>19335572</td>\n",
       "      <td>202212</td>\n",
       "      <td>1.00</td>\n",
       "    </tr>\n",
       "    <tr>\n",
       "      <th>7</th>\n",
       "      <td>32595</td>\n",
       "      <td>202212</td>\n",
       "      <td>0.00</td>\n",
       "    </tr>\n",
       "  </tbody>\n",
       "</table>\n",
       "</div>"
      ],
      "text/plain": [
       "  CODCLAVECIC  codmes  SoW\n",
       "0     7770924  202212 0.00\n",
       "2    24800643  202212 0.08\n",
       "5    21508521  202212 0.00\n",
       "6    19335572  202212 1.00\n",
       "7       32595  202212 0.00"
      ]
     },
     "execution_count": 69,
     "metadata": {},
     "output_type": "execute_result"
    }
   ],
   "source": [
    "vinculacion.rename(columns={'codclavecic': 'CODCLAVECIC'}, inplace=True)\n",
    "vinculacion.head()"
   ]
  },
  {
   "cell_type": "code",
   "execution_count": 70,
   "id": "8dba0659",
   "metadata": {},
   "outputs": [
    {
     "name": "stdout",
     "output_type": "stream",
     "text": [
      "object\n",
      "int64\n",
      "int32\n",
      "int64\n"
     ]
    }
   ],
   "source": [
    "print(vinculacion['CODCLAVECIC'].dtype)\n",
    "print(segmentos['CODCLAVECIC'].dtype)\n",
    "vinculacion['CODCLAVECIC'] = vinculacion['CODCLAVECIC'].astype(int)\n",
    "print(vinculacion['CODCLAVECIC'].dtype)\n",
    "print(segmentos['CODCLAVECIC'].dtype)"
   ]
  },
  {
   "cell_type": "code",
   "execution_count": 71,
   "metadata": {},
   "outputs": [
    {
     "data": {
      "text/html": [
       "<div>\n",
       "<style scoped>\n",
       "    .dataframe tbody tr th:only-of-type {\n",
       "        vertical-align: middle;\n",
       "    }\n",
       "\n",
       "    .dataframe tbody tr th {\n",
       "        vertical-align: top;\n",
       "    }\n",
       "\n",
       "    .dataframe thead th {\n",
       "        text-align: right;\n",
       "    }\n",
       "</style>\n",
       "<table border=\"1\" class=\"dataframe\">\n",
       "  <thead>\n",
       "    <tr style=\"text-align: right;\">\n",
       "      <th></th>\n",
       "      <th>CODCLAVECIC</th>\n",
       "      <th>codmes</th>\n",
       "      <th>SoW</th>\n",
       "      <th>SEGMENTO</th>\n",
       "    </tr>\n",
       "  </thead>\n",
       "  <tbody>\n",
       "    <tr>\n",
       "      <th>0</th>\n",
       "      <td>4848437</td>\n",
       "      <td>202212</td>\n",
       "      <td>0.27</td>\n",
       "      <td>NEGOCIOS</td>\n",
       "    </tr>\n",
       "    <tr>\n",
       "      <th>1</th>\n",
       "      <td>3579927</td>\n",
       "      <td>202212</td>\n",
       "      <td>1.00</td>\n",
       "      <td>PYME</td>\n",
       "    </tr>\n",
       "    <tr>\n",
       "      <th>2</th>\n",
       "      <td>1092560</td>\n",
       "      <td>202212</td>\n",
       "      <td>0.34</td>\n",
       "      <td>PYME</td>\n",
       "    </tr>\n",
       "    <tr>\n",
       "      <th>3</th>\n",
       "      <td>12192841</td>\n",
       "      <td>202212</td>\n",
       "      <td>0.27</td>\n",
       "      <td>PYME</td>\n",
       "    </tr>\n",
       "    <tr>\n",
       "      <th>4</th>\n",
       "      <td>7138370</td>\n",
       "      <td>202212</td>\n",
       "      <td>0.33</td>\n",
       "      <td>PYME</td>\n",
       "    </tr>\n",
       "  </tbody>\n",
       "</table>\n",
       "</div>"
      ],
      "text/plain": [
       "   CODCLAVECIC  codmes  SoW  SEGMENTO\n",
       "0      4848437  202212 0.27  NEGOCIOS\n",
       "1      3579927  202212 1.00      PYME\n",
       "2      1092560  202212 0.34      PYME\n",
       "3     12192841  202212 0.27      PYME\n",
       "4      7138370  202212 0.33      PYME"
      ]
     },
     "execution_count": 71,
     "metadata": {},
     "output_type": "execute_result"
    }
   ],
   "source": [
    "pregunta_c = pd.merge(vinculacion, segmentos, on='CODCLAVECIC', how='inner')\n",
    "pregunta_c.head()"
   ]
  },
  {
   "cell_type": "code",
   "execution_count": 72,
   "id": "c8bf89e5",
   "metadata": {},
   "outputs": [
    {
     "data": {
      "text/html": [
       "<div>\n",
       "<style scoped>\n",
       "    .dataframe tbody tr th:only-of-type {\n",
       "        vertical-align: middle;\n",
       "    }\n",
       "\n",
       "    .dataframe tbody tr th {\n",
       "        vertical-align: top;\n",
       "    }\n",
       "\n",
       "    .dataframe thead th {\n",
       "        text-align: right;\n",
       "    }\n",
       "</style>\n",
       "<table border=\"1\" class=\"dataframe\">\n",
       "  <thead>\n",
       "    <tr style=\"text-align: right;\">\n",
       "      <th></th>\n",
       "      <th>SEGMENTO</th>\n",
       "      <th>SoW</th>\n",
       "    </tr>\n",
       "  </thead>\n",
       "  <tbody>\n",
       "    <tr>\n",
       "      <th>0</th>\n",
       "      <td>CORPORATIVA</td>\n",
       "      <td>3,548.32</td>\n",
       "    </tr>\n",
       "    <tr>\n",
       "      <th>1</th>\n",
       "      <td>INSTITUCIONAL</td>\n",
       "      <td>1,376.56</td>\n",
       "    </tr>\n",
       "    <tr>\n",
       "      <th>2</th>\n",
       "      <td>JUNIOR</td>\n",
       "      <td>10,383.08</td>\n",
       "    </tr>\n",
       "    <tr>\n",
       "      <th>3</th>\n",
       "      <td>MULTINACIONAL</td>\n",
       "      <td>1,697.20</td>\n",
       "    </tr>\n",
       "    <tr>\n",
       "      <th>4</th>\n",
       "      <td>NEGOCIOS</td>\n",
       "      <td>37,738.44</td>\n",
       "    </tr>\n",
       "  </tbody>\n",
       "</table>\n",
       "</div>"
      ],
      "text/plain": [
       "        SEGMENTO       SoW\n",
       "0    CORPORATIVA  3,548.32\n",
       "1  INSTITUCIONAL  1,376.56\n",
       "2         JUNIOR 10,383.08\n",
       "3  MULTINACIONAL  1,697.20\n",
       "4       NEGOCIOS 37,738.44"
      ]
     },
     "execution_count": 72,
     "metadata": {},
     "output_type": "execute_result"
    }
   ],
   "source": [
    "pregunta_c = pregunta_c.groupby('SEGMENTO')['SoW'].sum()\n",
    "pregunta_c=pd.DataFrame(pregunta_c)\n",
    "pregunta_c.reset_index(inplace=True)\n",
    "pregunta_c.head()"
   ]
  },
  {
   "cell_type": "code",
   "execution_count": 73,
   "id": "3cc6783b",
   "metadata": {},
   "outputs": [
    {
     "data": {
      "image/png": "[encoded data removed]",
      "text/plain": [
       "<Figure size 640x480 with 1 Axes>"
      ]
     },
     "metadata": {},
     "output_type": "display_data"
    }
   ],
   "source": [
    "sns.barplot(data=pregunta_c,x='SEGMENTO',y='SoW')\n",
    "plt.title('Grafico de Barras de Segmento por SoW')\n",
    "plt.xticks(rotation='vertical')\n",
    "plt.show()"
   ]
  },
  {
   "cell_type": "markdown",
   "metadata": {},
   "source": [
    "## Ejercicio 2"
   ]
  },
  {
   "attachments": {
    "Captura%20de%20Pantalla%202023-01-26%20a%20la%28s%29%2017.47.14.png": {
     "image/png": "[encoded data removed]"
    }
   },
   "cell_type": "markdown",
   "metadata": {},
   "source": [
    "#### Parte 1:\n",
    "\n",
    "a) Cree una función que calcule el VAN, a partir de un vector de \"flujos de caja\" y una tasa de descuento. Su función debe funcionar para vectores de diferentes dimensiones.\n",
    "\n",
    "La fórmula de VAN está dada por:\n",
    "\n",
    "![Captura%20de%20Pantalla%202023-01-26%20a%20la%28s%29%2017.47.14.png](attachment:Captura%20de%20Pantalla%202023-01-26%20a%20la%28s%29%2017.47.14.png)"
   ]
  },
  {
   "cell_type": "code",
   "execution_count": 74,
   "metadata": {},
   "outputs": [],
   "source": [
    "#Proyecto de ejemplo:\n",
    "\n",
    "vector_de_flujos = [-1900, 255, 227, 250, 158, 298, 199, 150, 169, 278, 188]\n",
    "tasa_de_descuento = 0.0146\n",
    "segmento = \"CONSUMO\""
   ]
  },
  {
   "cell_type": "code",
   "execution_count": 75,
   "metadata": {},
   "outputs": [
    {
     "name": "stdout",
     "output_type": "stream",
     "text": [
      "['CORPORATIVA' 'INSTITUCIONAL' 'JUNIOR' 'MULTINACIONAL' 'NEGOCIOS' 'PYME'\n",
      " 'SENIOR']\n"
     ]
    }
   ],
   "source": [
    "print(pregunta_b['SEGMENTO'].values)"
   ]
  },
  {
   "cell_type": "code",
   "execution_count": 77,
   "id": "3bf7452c",
   "metadata": {},
   "outputs": [
    {
     "name": "stdout",
     "output_type": "stream",
     "text": [
      "Hint de CORPORATIVA: 55277837.72821256\n",
      "Hint de INSTITUCIONAL: 14515978.348999366\n",
      "Hint de JUNIOR: 8106515.377177799\n",
      "Hint de MULTINACIONAL: 33948638.44195911\n",
      "Hint de NEGOCIOS: 9794992.325701715\n",
      "Hint de PYME: 7627090.538178254\n",
      "Hint de SENIOR: 14136086.910354057\n"
     ]
    }
   ],
   "source": [
    "def obtener_hint(segmento):\n",
    "    hint = pregunta_b.loc[pregunta_b['SEGMENTO'] == segmento, 'Hint'].iloc[0]\n",
    "    print(\"Hint de\", segmento + \":\", hint)\n",
    "\n",
    "# Llamar a la función para cada segmento\n",
    "obtener_hint('CORPORATIVA')\n",
    "obtener_hint('INSTITUCIONAL')\n",
    "obtener_hint('JUNIOR')\n",
    "obtener_hint('MULTINACIONAL')\n",
    "obtener_hint('NEGOCIOS')\n",
    "obtener_hint('PYME')\n",
    "obtener_hint('SENIOR')"
   ]
  },
  {
   "cell_type": "code",
   "execution_count": 78,
   "id": "3f3a4b29",
   "metadata": {},
   "outputs": [
    {
     "name": "stdout",
     "output_type": "stream",
     "text": [
      "-55277725.171042226\n",
      "-14515865.791829031\n",
      "-8106402.820007464\n",
      "-33948525.88478878\n",
      "-9794879.76853138\n",
      "-7626977.981007919\n",
      "-14135974.353183722\n"
     ]
    }
   ],
   "source": [
    "def van(segmento):\n",
    "    FCo = pregunta_b.loc[pregunta_b['SEGMENTO'] == segmento, 'Hint'].iloc[0]\n",
    "    VAN = sum([flujo / (1 + tasa_de_descuento) ** indice for indice, flujo in enumerate(vector_de_flujos)]) - FCo\n",
    "    return VAN\n",
    "# Llamar a la función para cada segmento\n",
    "print(van('CORPORATIVA'))\n",
    "print(van('INSTITUCIONAL'))\n",
    "print(van('JUNIOR'))\n",
    "print(van('MULTINACIONAL'))\n",
    "print(van('NEGOCIOS'))\n",
    "print(van('PYME'))\n",
    "print(van('SENIOR'))"
   ]
  },
  {
   "cell_type": "markdown",
   "metadata": {},
   "source": [
    "#### Parte 2:\n",
    "\n",
    "b) Cree una función que señale si debemos aprobar un crédito, a partir de un vector de \"flujos de caja\" y el segmento del cliente. (Hint: utilice sus conocimientos financieros para definir el criterio a partir del valor del VAN).\n",
    "\n",
    "Considere que los segmentos \"BEX\" y \"ENALTA\" tienen una tasa de descuento de 0.0122; y el segmento \"CONSUMO\" de 0.0146"
   ]
  },
  {
   "cell_type": "code",
   "execution_count": 79,
   "metadata": {},
   "outputs": [
    {
     "data": {
      "text/html": [
       "<div>\n",
       "<style scoped>\n",
       "    .dataframe tbody tr th:only-of-type {\n",
       "        vertical-align: middle;\n",
       "    }\n",
       "\n",
       "    .dataframe tbody tr th {\n",
       "        vertical-align: top;\n",
       "    }\n",
       "\n",
       "    .dataframe thead th {\n",
       "        text-align: right;\n",
       "    }\n",
       "</style>\n",
       "<table border=\"1\" class=\"dataframe\">\n",
       "  <thead>\n",
       "    <tr style=\"text-align: right;\">\n",
       "      <th></th>\n",
       "      <th>Segmento</th>\n",
       "      <th>Bex_VAN</th>\n",
       "      <th>Consumo_VAN</th>\n",
       "    </tr>\n",
       "  </thead>\n",
       "  <tbody>\n",
       "    <tr>\n",
       "      <th>0</th>\n",
       "      <td>CORPORATIVA</td>\n",
       "      <td>-55,277,700.19</td>\n",
       "      <td>-55,277,725.17</td>\n",
       "    </tr>\n",
       "    <tr>\n",
       "      <th>1</th>\n",
       "      <td>INSTITUCIONAL</td>\n",
       "      <td>-14,515,840.81</td>\n",
       "      <td>-14,515,865.79</td>\n",
       "    </tr>\n",
       "    <tr>\n",
       "      <th>2</th>\n",
       "      <td>JUNIOR</td>\n",
       "      <td>-8,106,377.84</td>\n",
       "      <td>-8,106,402.82</td>\n",
       "    </tr>\n",
       "    <tr>\n",
       "      <th>3</th>\n",
       "      <td>MULTINACIONAL</td>\n",
       "      <td>-33,948,500.91</td>\n",
       "      <td>-33,948,525.88</td>\n",
       "    </tr>\n",
       "    <tr>\n",
       "      <th>4</th>\n",
       "      <td>NEGOCIOS</td>\n",
       "      <td>-9,794,854.79</td>\n",
       "      <td>-9,794,879.77</td>\n",
       "    </tr>\n",
       "    <tr>\n",
       "      <th>5</th>\n",
       "      <td>PYME</td>\n",
       "      <td>-7,626,953.00</td>\n",
       "      <td>-7,626,977.98</td>\n",
       "    </tr>\n",
       "    <tr>\n",
       "      <th>6</th>\n",
       "      <td>SENIOR</td>\n",
       "      <td>-14,135,949.37</td>\n",
       "      <td>-14,135,974.35</td>\n",
       "    </tr>\n",
       "  </tbody>\n",
       "</table>\n",
       "</div>"
      ],
      "text/plain": [
       "        Segmento        Bex_VAN    Consumo_VAN\n",
       "0    CORPORATIVA -55,277,700.19 -55,277,725.17\n",
       "1  INSTITUCIONAL -14,515,840.81 -14,515,865.79\n",
       "2         JUNIOR  -8,106,377.84  -8,106,402.82\n",
       "3  MULTINACIONAL -33,948,500.91 -33,948,525.88\n",
       "4       NEGOCIOS  -9,794,854.79  -9,794,879.77\n",
       "5           PYME  -7,626,953.00  -7,626,977.98\n",
       "6         SENIOR -14,135,949.37 -14,135,974.35"
      ]
     },
     "execution_count": 79,
     "metadata": {},
     "output_type": "execute_result"
    }
   ],
   "source": [
    "bex=0.0122\n",
    "consumo=0.0146\n",
    "def van(segmento,tasa_de_descuento):\n",
    "    FCo = pregunta_b.loc[pregunta_b['SEGMENTO'] == segmento, 'Hint'].iloc[0]\n",
    "    VAN = sum([flujo / (1 + tasa_de_descuento) ** indice for indice, flujo in enumerate(vector_de_flujos)]) - FCo\n",
    "    return VAN\n",
    "# Crear un diccionario con los datos\n",
    "datos = {\n",
    "    'Segmento': ['CORPORATIVA', 'INSTITUCIONAL', 'JUNIOR', 'MULTINACIONAL', 'NEGOCIOS', 'PYME', 'SENIOR'],\n",
    "    'Bex_VAN': [van('CORPORATIVA', bex), van('INSTITUCIONAL', bex), van('JUNIOR', bex), \n",
    "                van('MULTINACIONAL', bex), van('NEGOCIOS', bex), van('PYME', bex), van('SENIOR', bex)],\n",
    "    'Consumo_VAN': [van('CORPORATIVA', consumo), van('INSTITUCIONAL', consumo), van('JUNIOR', consumo), \n",
    "                    van('MULTINACIONAL', consumo), van('NEGOCIOS', consumo), van('PYME', consumo), van('SENIOR', consumo)]\n",
    "}\n",
    "\n",
    "# Crear un DataFrame a partir del diccionario\n",
    "df_bex_consumo = pd.DataFrame(datos)\n",
    "\n",
    "# Imprimir el DataFrame\n",
    "df_bex_consumo\n"
   ]
  },
  {
   "cell_type": "markdown",
   "metadata": {},
   "source": [
    "#### Parte 3:\n",
    "\n",
    "c) Cree un vector de tasas entre 0% (0.0000) y 5% (0.0500) con incrementos de 10 puntos básicos entre ellas (Hint: 1 punto básico es igual a 0.0001).\n",
    "\n",
    "d) A partir de la función de la pregunta (a) y el vector de la pregunta (c); cree un gráfico que muestre la relación entre la tasa de descuento y el VAN. Use el proyecto de ejemplo en su respuesta. (En caso utilice librerías, puede utilizar la de su preferencia)."
   ]
  },
  {
   "cell_type": "code",
   "execution_count": 80,
   "metadata": {},
   "outputs": [
    {
     "name": "stdout",
     "output_type": "stream",
     "text": [
      "[0.    0.001 0.002 0.003 0.004 0.005 0.006 0.007 0.008 0.009 0.01  0.011\n",
      " 0.012 0.013 0.014 0.015 0.016 0.017 0.018 0.019 0.02  0.021 0.022 0.023\n",
      " 0.024 0.025 0.026 0.027 0.028 0.029 0.03  0.031 0.032 0.033 0.034 0.035\n",
      " 0.036 0.037 0.038 0.039 0.04  0.041 0.042 0.043 0.044 0.045 0.046 0.047\n",
      " 0.048 0.049 0.05 ]\n"
     ]
    }
   ],
   "source": [
    "# Pregunta C\n",
    "# Definir el rango de tasas\n",
    "tasa_inicial = 0.0\n",
    "tasa_final = 0.05\n",
    "incremento = 0.001  # Esto equivale a 10 puntos básicos\n",
    "# Crear el vector de tasas\n",
    "vector_de_tasas = np.arange(tasa_inicial, tasa_final + incremento, incremento)\n",
    "# Imprimir el vector de tasas\n",
    "print(vector_de_tasas)"
   ]
  },
  {
   "cell_type": "code",
   "execution_count": 86,
   "metadata": {},
   "outputs": [
    {
     "data": {
      "image/png": "[encoded data removed]",
      "text/plain": [
       "<Figure size 1000x800 with 1 Axes>"
      ]
     },
     "metadata": {},
     "output_type": "display_data"
    }
   ],
   "source": [
    "plt.figure(figsize=(10,8))\n",
    "sns.histplot(vector_de_tasas,kde=True)\n",
    "plt.title('Histograma de Tasas', fontsize=12,weight='bold')\n",
    "plt.ylabel('')\n",
    "plt.show()"
   ]
  },
  {
   "cell_type": "markdown",
   "metadata": {},
   "source": [
    "#### Parte 4:\n",
    "\n",
    "e) La TIR se define como la tasa de descuento que hace que el VAN sea igual a cero. Aproximadamente, ¿cuál sería la TIR del proyecto de ejemplo? (Hint: puede apoyarse en el gráfico de la pregunta (c)).\n",
    "\n",
    "f) Cree una función que _aproxime_ la TIR, a partir de un vector de \"flujos de caja\". En esta pregunta hay libertad creativa; puede incluir más argumentos en su función si lo considera necesario. Indique las limitaciones de su función. (Hint: no necesita usar librerías de optimización)."
   ]
  },
  {
   "cell_type": "code",
   "execution_count": null,
   "metadata": {},
   "outputs": [],
   "source": []
  },
  {
   "cell_type": "code",
   "execution_count": null,
   "metadata": {},
   "outputs": [],
   "source": []
  },
  {
   "cell_type": "code",
   "execution_count": null,
   "metadata": {},
   "outputs": [],
   "source": []
  }
 ],
 "metadata": {
  "kernelspec": {
   "display_name": "Python 3",
   "language": "python",
   "name": "python3"
  },
  "language_info": {
   "codemirror_mode": {
    "name": "ipython",
    "version": 3
   },
   "file_extension": ".py",
   "mimetype": "text/x-python",
   "name": "python",
   "nbconvert_exporter": "python",
   "pygments_lexer": "ipython3",
   "version": "3.12.1"
  }
 },
 "nbformat": 4,
 "nbformat_minor": 5
}
