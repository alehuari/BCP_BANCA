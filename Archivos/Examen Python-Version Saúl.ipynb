{
 "cells": [
  {
   "cell_type": "code",
   "execution_count": 154,
   "metadata": {},
   "outputs": [],
   "source": [
    "# Librerias\n",
    "import pandas as pd\n",
    "import numpy as np\n",
    "import matplotlib.pyplot as plt\n",
    "import seaborn as sns\n",
    "pd.options.display.float_format = '{:,.2f}'.format\n",
    "import numpy_financial as npf\n",
    "import plotly.express as px\n",
    "# Establecer el estilo de fondo\n",
    "plt.style.use('dark_background')\n",
    "import warnings\n",
    "warnings.filterwarnings('ignore')"
   ]
  },
  {
   "cell_type": "markdown",
   "metadata": {},
   "source": [
    "## Archivos proporcionados"
   ]
  },
  {
   "cell_type": "markdown",
   "metadata": {},
   "source": [
    "En el primer archivo \"operaciones.csv\" están las operaciones realizadas por los clientes (identificados por la columna CODCLAVECIC), la cantidad de dólares cambiados y el precio al que se cambiaron. **Además contiene la fecha y hora en la que se realizó cada operación.**\n",
    "\n",
    "El segundo archivo \"segmentos.xlsx\" contiene la información de a qué SEGMENTO pertenece cada cliente de la tabla \"operaciones.csv\".\n",
    "\n",
    "El tercer archivo \"vinculacion.parquet\" contiene un indicador del nivel de vinculacion del cliente con el BCP que se actualiza todos los meses."
   ]
  },
  {
   "cell_type": "markdown",
   "id": "4217ae08",
   "metadata": {},
   "source": [
    "## Ejercicio 1"
   ]
  },
  {
   "cell_type": "markdown",
   "id": "30e0e468",
   "metadata": {},
   "source": [
    "#### Parte 1:\n",
    "\n",
    "a) Lea los archivos proporcionados.\n",
    "\n",
    "b) Calcule (i) la cantidad total y (ii) el ingreso promedio para cada segmento de clientes (Hint: el ingreso se calcula como PxQ).\n",
    "\n",
    "Los clientes de la tabla \"operaciones.csv\" que NO aparecen en la tabla de \"segmentos.xlsx\" son \"NO SEGMENTADOS\".\n",
    " "
   ]
  },
  {
   "cell_type": "markdown",
   "id": "31ffe220",
   "metadata": {},
   "source": [
    "### **Pregunta A**"
   ]
  },
  {
   "cell_type": "code",
   "execution_count": 155,
   "metadata": {},
   "outputs": [
    {
     "data": {
      "text/html": [
       "<div>\n",
       "<style scoped>\n",
       "    .dataframe tbody tr th:only-of-type {\n",
       "        vertical-align: middle;\n",
       "    }\n",
       "\n",
       "    .dataframe tbody tr th {\n",
       "        vertical-align: top;\n",
       "    }\n",
       "\n",
       "    .dataframe thead th {\n",
       "        text-align: right;\n",
       "    }\n",
       "</style>\n",
       "<table border=\"1\" class=\"dataframe\">\n",
       "  <thead>\n",
       "    <tr style=\"text-align: right;\">\n",
       "      <th></th>\n",
       "      <th>CODCLAVECIC</th>\n",
       "      <th>FECHA</th>\n",
       "      <th>HORA</th>\n",
       "      <th>CANTIDAD</th>\n",
       "      <th>PRECIO</th>\n",
       "    </tr>\n",
       "  </thead>\n",
       "  <tbody>\n",
       "    <tr>\n",
       "      <th>0</th>\n",
       "      <td>14500</td>\n",
       "      <td>01/03/22</td>\n",
       "      <td>08:51:03</td>\n",
       "      <td>2,000,000.00</td>\n",
       "      <td>20.00</td>\n",
       "    </tr>\n",
       "    <tr>\n",
       "      <th>1</th>\n",
       "      <td>2705162</td>\n",
       "      <td>01/03/22</td>\n",
       "      <td>09:01:44</td>\n",
       "      <td>100,000.00</td>\n",
       "      <td>60.00</td>\n",
       "    </tr>\n",
       "    <tr>\n",
       "      <th>2</th>\n",
       "      <td>47638</td>\n",
       "      <td>01/03/22</td>\n",
       "      <td>09:02:58</td>\n",
       "      <td>120,000.00</td>\n",
       "      <td>250.00</td>\n",
       "    </tr>\n",
       "    <tr>\n",
       "      <th>3</th>\n",
       "      <td>1570837</td>\n",
       "      <td>01/03/22</td>\n",
       "      <td>09:03:28</td>\n",
       "      <td>5,000.00</td>\n",
       "      <td>220.00</td>\n",
       "    </tr>\n",
       "    <tr>\n",
       "      <th>4</th>\n",
       "      <td>83580</td>\n",
       "      <td>01/03/22</td>\n",
       "      <td>09:06:16</td>\n",
       "      <td>5,000.00</td>\n",
       "      <td>300.00</td>\n",
       "    </tr>\n",
       "  </tbody>\n",
       "</table>\n",
       "</div>"
      ],
      "text/plain": [
       "   CODCLAVECIC     FECHA      HORA     CANTIDAD  PRECIO\n",
       "0        14500  01/03/22  08:51:03 2,000,000.00   20.00\n",
       "1      2705162  01/03/22  09:01:44   100,000.00   60.00\n",
       "2        47638  01/03/22  09:02:58   120,000.00  250.00\n",
       "3      1570837  01/03/22  09:03:28     5,000.00  220.00\n",
       "4        83580  01/03/22  09:06:16     5,000.00  300.00"
      ]
     },
     "execution_count": 155,
     "metadata": {},
     "output_type": "execute_result"
    }
   ],
   "source": [
    "operaciones=pd.read_csv('operaciones.csv',sep=',')\n",
    "operaciones.head()"
   ]
  },
  {
   "cell_type": "code",
   "execution_count": 156,
   "metadata": {},
   "outputs": [
    {
     "data": {
      "text/html": [
       "<div>\n",
       "<style scoped>\n",
       "    .dataframe tbody tr th:only-of-type {\n",
       "        vertical-align: middle;\n",
       "    }\n",
       "\n",
       "    .dataframe tbody tr th {\n",
       "        vertical-align: top;\n",
       "    }\n",
       "\n",
       "    .dataframe thead th {\n",
       "        text-align: right;\n",
       "    }\n",
       "</style>\n",
       "<table border=\"1\" class=\"dataframe\">\n",
       "  <thead>\n",
       "    <tr style=\"text-align: right;\">\n",
       "      <th></th>\n",
       "      <th>CODCLAVECIC</th>\n",
       "      <th>SEGMENTO</th>\n",
       "    </tr>\n",
       "  </thead>\n",
       "  <tbody>\n",
       "    <tr>\n",
       "      <th>0</th>\n",
       "      <td>24640513</td>\n",
       "      <td>PYME</td>\n",
       "    </tr>\n",
       "    <tr>\n",
       "      <th>1</th>\n",
       "      <td>9164066</td>\n",
       "      <td>NEGOCIOS</td>\n",
       "    </tr>\n",
       "    <tr>\n",
       "      <th>2</th>\n",
       "      <td>137683</td>\n",
       "      <td>PYME</td>\n",
       "    </tr>\n",
       "    <tr>\n",
       "      <th>3</th>\n",
       "      <td>7907034</td>\n",
       "      <td>PYME</td>\n",
       "    </tr>\n",
       "    <tr>\n",
       "      <th>4</th>\n",
       "      <td>7651274</td>\n",
       "      <td>PYME</td>\n",
       "    </tr>\n",
       "  </tbody>\n",
       "</table>\n",
       "</div>"
      ],
      "text/plain": [
       "   CODCLAVECIC  SEGMENTO\n",
       "0     24640513      PYME\n",
       "1      9164066  NEGOCIOS\n",
       "2       137683      PYME\n",
       "3      7907034      PYME\n",
       "4      7651274      PYME"
      ]
     },
     "execution_count": 156,
     "metadata": {},
     "output_type": "execute_result"
    }
   ],
   "source": [
    "segmentos=pd.read_excel('segmentos.xlsx')\n",
    "segmentos.head()"
   ]
  },
  {
   "cell_type": "code",
   "execution_count": 157,
   "id": "af6acbf5",
   "metadata": {},
   "outputs": [
    {
     "data": {
      "text/html": [
       "<div>\n",
       "<style scoped>\n",
       "    .dataframe tbody tr th:only-of-type {\n",
       "        vertical-align: middle;\n",
       "    }\n",
       "\n",
       "    .dataframe tbody tr th {\n",
       "        vertical-align: top;\n",
       "    }\n",
       "\n",
       "    .dataframe thead th {\n",
       "        text-align: right;\n",
       "    }\n",
       "</style>\n",
       "<table border=\"1\" class=\"dataframe\">\n",
       "  <thead>\n",
       "    <tr style=\"text-align: right;\">\n",
       "      <th></th>\n",
       "      <th>codclavecic</th>\n",
       "      <th>codmes</th>\n",
       "      <th>SoW</th>\n",
       "    </tr>\n",
       "  </thead>\n",
       "  <tbody>\n",
       "    <tr>\n",
       "      <th>0</th>\n",
       "      <td>7770924</td>\n",
       "      <td>202212</td>\n",
       "      <td>0.00</td>\n",
       "    </tr>\n",
       "    <tr>\n",
       "      <th>2</th>\n",
       "      <td>24800643</td>\n",
       "      <td>202212</td>\n",
       "      <td>0.08</td>\n",
       "    </tr>\n",
       "    <tr>\n",
       "      <th>5</th>\n",
       "      <td>21508521</td>\n",
       "      <td>202212</td>\n",
       "      <td>0.00</td>\n",
       "    </tr>\n",
       "    <tr>\n",
       "      <th>6</th>\n",
       "      <td>19335572</td>\n",
       "      <td>202212</td>\n",
       "      <td>1.00</td>\n",
       "    </tr>\n",
       "    <tr>\n",
       "      <th>7</th>\n",
       "      <td>32595</td>\n",
       "      <td>202212</td>\n",
       "      <td>0.00</td>\n",
       "    </tr>\n",
       "  </tbody>\n",
       "</table>\n",
       "</div>"
      ],
      "text/plain": [
       "  codclavecic  codmes  SoW\n",
       "0     7770924  202212 0.00\n",
       "2    24800643  202212 0.08\n",
       "5    21508521  202212 0.00\n",
       "6    19335572  202212 1.00\n",
       "7       32595  202212 0.00"
      ]
     },
     "execution_count": 157,
     "metadata": {},
     "output_type": "execute_result"
    }
   ],
   "source": [
    "vinculacion=pd.read_parquet('vinculacion.parquet')\n",
    "vinculacion.head()"
   ]
  },
  {
   "cell_type": "markdown",
   "id": "8f6aa311",
   "metadata": {},
   "source": [
    "### **Pregunta B**"
   ]
  },
  {
   "cell_type": "code",
   "execution_count": 158,
   "metadata": {},
   "outputs": [
    {
     "data": {
      "text/html": [
       "<div>\n",
       "<style scoped>\n",
       "    .dataframe tbody tr th:only-of-type {\n",
       "        vertical-align: middle;\n",
       "    }\n",
       "\n",
       "    .dataframe tbody tr th {\n",
       "        vertical-align: top;\n",
       "    }\n",
       "\n",
       "    .dataframe thead th {\n",
       "        text-align: right;\n",
       "    }\n",
       "</style>\n",
       "<table border=\"1\" class=\"dataframe\">\n",
       "  <thead>\n",
       "    <tr style=\"text-align: right;\">\n",
       "      <th></th>\n",
       "      <th>CODCLAVECIC</th>\n",
       "      <th>FECHA</th>\n",
       "      <th>HORA</th>\n",
       "      <th>CANTIDAD</th>\n",
       "      <th>PRECIO</th>\n",
       "      <th>SEGMENTO</th>\n",
       "      <th>Hint</th>\n",
       "    </tr>\n",
       "  </thead>\n",
       "  <tbody>\n",
       "    <tr>\n",
       "      <th>0</th>\n",
       "      <td>14500</td>\n",
       "      <td>01/03/22</td>\n",
       "      <td>08:51:03</td>\n",
       "      <td>2,000,000.00</td>\n",
       "      <td>20.00</td>\n",
       "      <td>CORPORATIVA</td>\n",
       "      <td>40,000,000.00</td>\n",
       "    </tr>\n",
       "    <tr>\n",
       "      <th>1</th>\n",
       "      <td>2705162</td>\n",
       "      <td>01/03/22</td>\n",
       "      <td>09:01:44</td>\n",
       "      <td>100,000.00</td>\n",
       "      <td>60.00</td>\n",
       "      <td>SENIOR</td>\n",
       "      <td>6,000,000.00</td>\n",
       "    </tr>\n",
       "    <tr>\n",
       "      <th>2</th>\n",
       "      <td>47638</td>\n",
       "      <td>01/03/22</td>\n",
       "      <td>09:02:58</td>\n",
       "      <td>120,000.00</td>\n",
       "      <td>250.00</td>\n",
       "      <td>NEGOCIOS</td>\n",
       "      <td>30,000,000.00</td>\n",
       "    </tr>\n",
       "    <tr>\n",
       "      <th>3</th>\n",
       "      <td>1570837</td>\n",
       "      <td>01/03/22</td>\n",
       "      <td>09:03:28</td>\n",
       "      <td>5,000.00</td>\n",
       "      <td>220.00</td>\n",
       "      <td>JUNIOR</td>\n",
       "      <td>1,100,000.00</td>\n",
       "    </tr>\n",
       "    <tr>\n",
       "      <th>4</th>\n",
       "      <td>83580</td>\n",
       "      <td>01/03/22</td>\n",
       "      <td>09:06:16</td>\n",
       "      <td>5,000.00</td>\n",
       "      <td>300.00</td>\n",
       "      <td>NEGOCIOS</td>\n",
       "      <td>1,500,000.00</td>\n",
       "    </tr>\n",
       "  </tbody>\n",
       "</table>\n",
       "</div>"
      ],
      "text/plain": [
       "   CODCLAVECIC     FECHA      HORA     CANTIDAD  PRECIO     SEGMENTO  \\\n",
       "0        14500  01/03/22  08:51:03 2,000,000.00   20.00  CORPORATIVA   \n",
       "1      2705162  01/03/22  09:01:44   100,000.00   60.00       SENIOR   \n",
       "2        47638  01/03/22  09:02:58   120,000.00  250.00     NEGOCIOS   \n",
       "3      1570837  01/03/22  09:03:28     5,000.00  220.00       JUNIOR   \n",
       "4        83580  01/03/22  09:06:16     5,000.00  300.00     NEGOCIOS   \n",
       "\n",
       "           Hint  \n",
       "0 40,000,000.00  \n",
       "1  6,000,000.00  \n",
       "2 30,000,000.00  \n",
       "3  1,100,000.00  \n",
       "4  1,500,000.00  "
      ]
     },
     "execution_count": 158,
     "metadata": {},
     "output_type": "execute_result"
    }
   ],
   "source": [
    "resultado = pd.merge(operaciones, segmentos, on='CODCLAVECIC', how='inner')\n",
    "resultado['Hint']=resultado['CANTIDAD']*resultado['PRECIO']\n",
    "resultado.head()"
   ]
  },
  {
   "cell_type": "code",
   "execution_count": 159,
   "metadata": {},
   "outputs": [
    {
     "data": {
      "text/html": [
       "<div>\n",
       "<style scoped>\n",
       "    .dataframe tbody tr th:only-of-type {\n",
       "        vertical-align: middle;\n",
       "    }\n",
       "\n",
       "    .dataframe tbody tr th {\n",
       "        vertical-align: top;\n",
       "    }\n",
       "\n",
       "    .dataframe thead th {\n",
       "        text-align: right;\n",
       "    }\n",
       "</style>\n",
       "<table border=\"1\" class=\"dataframe\">\n",
       "  <thead>\n",
       "    <tr style=\"text-align: right;\">\n",
       "      <th></th>\n",
       "      <th>SEGMENTO</th>\n",
       "      <th>CANTIDAD</th>\n",
       "    </tr>\n",
       "  </thead>\n",
       "  <tbody>\n",
       "    <tr>\n",
       "      <th>0</th>\n",
       "      <td>CORPORATIVA</td>\n",
       "      <td>1,936,965,338.71</td>\n",
       "    </tr>\n",
       "    <tr>\n",
       "      <th>1</th>\n",
       "      <td>INSTITUCIONAL</td>\n",
       "      <td>194,675,814.16</td>\n",
       "    </tr>\n",
       "    <tr>\n",
       "      <th>2</th>\n",
       "      <td>JUNIOR</td>\n",
       "      <td>1,226,068,516.29</td>\n",
       "    </tr>\n",
       "    <tr>\n",
       "      <th>3</th>\n",
       "      <td>MULTINACIONAL</td>\n",
       "      <td>678,133,346.33</td>\n",
       "    </tr>\n",
       "    <tr>\n",
       "      <th>4</th>\n",
       "      <td>NEGOCIOS</td>\n",
       "      <td>1,233,981,637.72</td>\n",
       "    </tr>\n",
       "  </tbody>\n",
       "</table>\n",
       "</div>"
      ],
      "text/plain": [
       "        SEGMENTO         CANTIDAD\n",
       "0    CORPORATIVA 1,936,965,338.71\n",
       "1  INSTITUCIONAL   194,675,814.16\n",
       "2         JUNIOR 1,226,068,516.29\n",
       "3  MULTINACIONAL   678,133,346.33\n",
       "4       NEGOCIOS 1,233,981,637.72"
      ]
     },
     "execution_count": 159,
     "metadata": {},
     "output_type": "execute_result"
    }
   ],
   "source": [
    "# la cantidad total\n",
    "cantidad_total=resultado.groupby('SEGMENTO')['CANTIDAD'].sum()\n",
    "cantidad_total=pd.DataFrame(cantidad_total)\n",
    "cantidad_total.reset_index(inplace=True)\n",
    "cantidad_total.head()"
   ]
  },
  {
   "cell_type": "code",
   "execution_count": 160,
   "id": "23c6c2ac",
   "metadata": {},
   "outputs": [
    {
     "data": {
      "text/html": [
       "<div>\n",
       "<style scoped>\n",
       "    .dataframe tbody tr th:only-of-type {\n",
       "        vertical-align: middle;\n",
       "    }\n",
       "\n",
       "    .dataframe tbody tr th {\n",
       "        vertical-align: top;\n",
       "    }\n",
       "\n",
       "    .dataframe thead th {\n",
       "        text-align: right;\n",
       "    }\n",
       "</style>\n",
       "<table border=\"1\" class=\"dataframe\">\n",
       "  <thead>\n",
       "    <tr style=\"text-align: right;\">\n",
       "      <th></th>\n",
       "      <th>SEGMENTO</th>\n",
       "      <th>Hint</th>\n",
       "    </tr>\n",
       "  </thead>\n",
       "  <tbody>\n",
       "    <tr>\n",
       "      <th>0</th>\n",
       "      <td>CORPORATIVA</td>\n",
       "      <td>55,277,837.73</td>\n",
       "    </tr>\n",
       "    <tr>\n",
       "      <th>1</th>\n",
       "      <td>INSTITUCIONAL</td>\n",
       "      <td>14,515,978.35</td>\n",
       "    </tr>\n",
       "    <tr>\n",
       "      <th>2</th>\n",
       "      <td>JUNIOR</td>\n",
       "      <td>8,106,515.38</td>\n",
       "    </tr>\n",
       "    <tr>\n",
       "      <th>3</th>\n",
       "      <td>MULTINACIONAL</td>\n",
       "      <td>33,948,638.44</td>\n",
       "    </tr>\n",
       "    <tr>\n",
       "      <th>4</th>\n",
       "      <td>NEGOCIOS</td>\n",
       "      <td>9,794,992.33</td>\n",
       "    </tr>\n",
       "  </tbody>\n",
       "</table>\n",
       "</div>"
      ],
      "text/plain": [
       "        SEGMENTO          Hint\n",
       "0    CORPORATIVA 55,277,837.73\n",
       "1  INSTITUCIONAL 14,515,978.35\n",
       "2         JUNIOR  8,106,515.38\n",
       "3  MULTINACIONAL 33,948,638.44\n",
       "4       NEGOCIOS  9,794,992.33"
      ]
     },
     "execution_count": 160,
     "metadata": {},
     "output_type": "execute_result"
    }
   ],
   "source": [
    "# Promedio total\n",
    "promedio_total=resultado.groupby('SEGMENTO')['Hint'].mean()\n",
    "promedio_total=pd.DataFrame(promedio_total)\n",
    "promedio_total.reset_index(inplace=True)\n",
    "promedio_total.head()"
   ]
  },
  {
   "cell_type": "markdown",
   "id": "823a5649",
   "metadata": {},
   "source": [
    "**Respuesta**"
   ]
  },
  {
   "cell_type": "code",
   "execution_count": 161,
   "id": "95968d45",
   "metadata": {},
   "outputs": [
    {
     "data": {
      "text/html": [
       "<div>\n",
       "<style scoped>\n",
       "    .dataframe tbody tr th:only-of-type {\n",
       "        vertical-align: middle;\n",
       "    }\n",
       "\n",
       "    .dataframe tbody tr th {\n",
       "        vertical-align: top;\n",
       "    }\n",
       "\n",
       "    .dataframe thead th {\n",
       "        text-align: right;\n",
       "    }\n",
       "</style>\n",
       "<table border=\"1\" class=\"dataframe\">\n",
       "  <thead>\n",
       "    <tr style=\"text-align: right;\">\n",
       "      <th></th>\n",
       "      <th>SEGMENTO</th>\n",
       "      <th>CANTIDAD</th>\n",
       "      <th>Hint</th>\n",
       "    </tr>\n",
       "  </thead>\n",
       "  <tbody>\n",
       "    <tr>\n",
       "      <th>0</th>\n",
       "      <td>CORPORATIVA</td>\n",
       "      <td>1,936,965,338.71</td>\n",
       "      <td>55,277,837.73</td>\n",
       "    </tr>\n",
       "    <tr>\n",
       "      <th>1</th>\n",
       "      <td>INSTITUCIONAL</td>\n",
       "      <td>194,675,814.16</td>\n",
       "      <td>14,515,978.35</td>\n",
       "    </tr>\n",
       "    <tr>\n",
       "      <th>2</th>\n",
       "      <td>JUNIOR</td>\n",
       "      <td>1,226,068,516.29</td>\n",
       "      <td>8,106,515.38</td>\n",
       "    </tr>\n",
       "    <tr>\n",
       "      <th>3</th>\n",
       "      <td>MULTINACIONAL</td>\n",
       "      <td>678,133,346.33</td>\n",
       "      <td>33,948,638.44</td>\n",
       "    </tr>\n",
       "    <tr>\n",
       "      <th>4</th>\n",
       "      <td>NEGOCIOS</td>\n",
       "      <td>1,233,981,637.72</td>\n",
       "      <td>9,794,992.33</td>\n",
       "    </tr>\n",
       "  </tbody>\n",
       "</table>\n",
       "</div>"
      ],
      "text/plain": [
       "        SEGMENTO         CANTIDAD          Hint\n",
       "0    CORPORATIVA 1,936,965,338.71 55,277,837.73\n",
       "1  INSTITUCIONAL   194,675,814.16 14,515,978.35\n",
       "2         JUNIOR 1,226,068,516.29  8,106,515.38\n",
       "3  MULTINACIONAL   678,133,346.33 33,948,638.44\n",
       "4       NEGOCIOS 1,233,981,637.72  9,794,992.33"
      ]
     },
     "execution_count": 161,
     "metadata": {},
     "output_type": "execute_result"
    }
   ],
   "source": [
    "pregunta_b = pd.merge(cantidad_total, promedio_total, on='SEGMENTO', how='inner')\n",
    "pregunta_b.head()"
   ]
  },
  {
   "cell_type": "markdown",
   "metadata": {},
   "source": [
    "#### Parte 2:\n",
    "\n",
    "c) Calcule la cantidad total MENSUAL para clientes con \"SoW\" mayor a 60%\n",
    "\n",
    "Considere que el \"SoW\" mostrado en la tabla \"vinculacion.parquet\" se actualiza cada mes para cada cliente.\n",
    "\n",
    "d) Realice un gráfico sencillo que muestre sus resultados. (En caso utilice librerías, puede utilizar la de su preferencia)."
   ]
  },
  {
   "cell_type": "markdown",
   "id": "3e08a6b1",
   "metadata": {},
   "source": [
    "### **Pregunta C**"
   ]
  },
  {
   "cell_type": "code",
   "execution_count": 162,
   "metadata": {},
   "outputs": [
    {
     "data": {
      "text/html": [
       "<div>\n",
       "<style scoped>\n",
       "    .dataframe tbody tr th:only-of-type {\n",
       "        vertical-align: middle;\n",
       "    }\n",
       "\n",
       "    .dataframe tbody tr th {\n",
       "        vertical-align: top;\n",
       "    }\n",
       "\n",
       "    .dataframe thead th {\n",
       "        text-align: right;\n",
       "    }\n",
       "</style>\n",
       "<table border=\"1\" class=\"dataframe\">\n",
       "  <thead>\n",
       "    <tr style=\"text-align: right;\">\n",
       "      <th></th>\n",
       "      <th>CODCLAVECIC</th>\n",
       "      <th>codmes</th>\n",
       "      <th>SoW</th>\n",
       "    </tr>\n",
       "  </thead>\n",
       "  <tbody>\n",
       "    <tr>\n",
       "      <th>0</th>\n",
       "      <td>7770924</td>\n",
       "      <td>202212</td>\n",
       "      <td>0.00</td>\n",
       "    </tr>\n",
       "    <tr>\n",
       "      <th>2</th>\n",
       "      <td>24800643</td>\n",
       "      <td>202212</td>\n",
       "      <td>0.08</td>\n",
       "    </tr>\n",
       "    <tr>\n",
       "      <th>5</th>\n",
       "      <td>21508521</td>\n",
       "      <td>202212</td>\n",
       "      <td>0.00</td>\n",
       "    </tr>\n",
       "    <tr>\n",
       "      <th>6</th>\n",
       "      <td>19335572</td>\n",
       "      <td>202212</td>\n",
       "      <td>1.00</td>\n",
       "    </tr>\n",
       "    <tr>\n",
       "      <th>7</th>\n",
       "      <td>32595</td>\n",
       "      <td>202212</td>\n",
       "      <td>0.00</td>\n",
       "    </tr>\n",
       "  </tbody>\n",
       "</table>\n",
       "</div>"
      ],
      "text/plain": [
       "  CODCLAVECIC  codmes  SoW\n",
       "0     7770924  202212 0.00\n",
       "2    24800643  202212 0.08\n",
       "5    21508521  202212 0.00\n",
       "6    19335572  202212 1.00\n",
       "7       32595  202212 0.00"
      ]
     },
     "execution_count": 162,
     "metadata": {},
     "output_type": "execute_result"
    }
   ],
   "source": [
    "vinculacion.rename(columns={'codclavecic': 'CODCLAVECIC'}, inplace=True)\n",
    "vinculacion.head()"
   ]
  },
  {
   "cell_type": "code",
   "execution_count": 163,
   "id": "8dba0659",
   "metadata": {},
   "outputs": [
    {
     "name": "stdout",
     "output_type": "stream",
     "text": [
      "object\n",
      "int64\n",
      "int32\n",
      "int64\n"
     ]
    }
   ],
   "source": [
    "print(vinculacion['CODCLAVECIC'].dtype)\n",
    "print(segmentos['CODCLAVECIC'].dtype)\n",
    "vinculacion['CODCLAVECIC'] = vinculacion['CODCLAVECIC'].astype(int)\n",
    "print(vinculacion['CODCLAVECIC'].dtype)\n",
    "print(segmentos['CODCLAVECIC'].dtype)"
   ]
  },
  {
   "cell_type": "code",
   "execution_count": 164,
   "metadata": {},
   "outputs": [
    {
     "data": {
      "text/html": [
       "<div>\n",
       "<style scoped>\n",
       "    .dataframe tbody tr th:only-of-type {\n",
       "        vertical-align: middle;\n",
       "    }\n",
       "\n",
       "    .dataframe tbody tr th {\n",
       "        vertical-align: top;\n",
       "    }\n",
       "\n",
       "    .dataframe thead th {\n",
       "        text-align: right;\n",
       "    }\n",
       "</style>\n",
       "<table border=\"1\" class=\"dataframe\">\n",
       "  <thead>\n",
       "    <tr style=\"text-align: right;\">\n",
       "      <th></th>\n",
       "      <th>CODCLAVECIC</th>\n",
       "      <th>codmes</th>\n",
       "      <th>SoW</th>\n",
       "      <th>SEGMENTO</th>\n",
       "    </tr>\n",
       "  </thead>\n",
       "  <tbody>\n",
       "    <tr>\n",
       "      <th>0</th>\n",
       "      <td>4848437</td>\n",
       "      <td>202212</td>\n",
       "      <td>0.27</td>\n",
       "      <td>NEGOCIOS</td>\n",
       "    </tr>\n",
       "    <tr>\n",
       "      <th>1</th>\n",
       "      <td>3579927</td>\n",
       "      <td>202212</td>\n",
       "      <td>1.00</td>\n",
       "      <td>PYME</td>\n",
       "    </tr>\n",
       "    <tr>\n",
       "      <th>2</th>\n",
       "      <td>1092560</td>\n",
       "      <td>202212</td>\n",
       "      <td>0.34</td>\n",
       "      <td>PYME</td>\n",
       "    </tr>\n",
       "    <tr>\n",
       "      <th>3</th>\n",
       "      <td>12192841</td>\n",
       "      <td>202212</td>\n",
       "      <td>0.27</td>\n",
       "      <td>PYME</td>\n",
       "    </tr>\n",
       "    <tr>\n",
       "      <th>4</th>\n",
       "      <td>7138370</td>\n",
       "      <td>202212</td>\n",
       "      <td>0.33</td>\n",
       "      <td>PYME</td>\n",
       "    </tr>\n",
       "  </tbody>\n",
       "</table>\n",
       "</div>"
      ],
      "text/plain": [
       "   CODCLAVECIC  codmes  SoW  SEGMENTO\n",
       "0      4848437  202212 0.27  NEGOCIOS\n",
       "1      3579927  202212 1.00      PYME\n",
       "2      1092560  202212 0.34      PYME\n",
       "3     12192841  202212 0.27      PYME\n",
       "4      7138370  202212 0.33      PYME"
      ]
     },
     "execution_count": 164,
     "metadata": {},
     "output_type": "execute_result"
    }
   ],
   "source": [
    "pregunta_c = pd.merge(vinculacion, segmentos, on='CODCLAVECIC', how='inner')\n",
    "pregunta_c.head()"
   ]
  },
  {
   "cell_type": "code",
   "execution_count": 165,
   "id": "c8bf89e5",
   "metadata": {},
   "outputs": [
    {
     "data": {
      "text/html": [
       "<div>\n",
       "<style scoped>\n",
       "    .dataframe tbody tr th:only-of-type {\n",
       "        vertical-align: middle;\n",
       "    }\n",
       "\n",
       "    .dataframe tbody tr th {\n",
       "        vertical-align: top;\n",
       "    }\n",
       "\n",
       "    .dataframe thead th {\n",
       "        text-align: right;\n",
       "    }\n",
       "</style>\n",
       "<table border=\"1\" class=\"dataframe\">\n",
       "  <thead>\n",
       "    <tr style=\"text-align: right;\">\n",
       "      <th></th>\n",
       "      <th>CODCLAVECIC</th>\n",
       "      <th>codmes</th>\n",
       "      <th>SoW</th>\n",
       "    </tr>\n",
       "  </thead>\n",
       "  <tbody>\n",
       "    <tr>\n",
       "      <th>0</th>\n",
       "      <td>66</td>\n",
       "      <td>202201</td>\n",
       "      <td>1.00</td>\n",
       "    </tr>\n",
       "    <tr>\n",
       "      <th>1</th>\n",
       "      <td>66</td>\n",
       "      <td>202202</td>\n",
       "      <td>1.00</td>\n",
       "    </tr>\n",
       "    <tr>\n",
       "      <th>2</th>\n",
       "      <td>66</td>\n",
       "      <td>202203</td>\n",
       "      <td>1.00</td>\n",
       "    </tr>\n",
       "    <tr>\n",
       "      <th>3</th>\n",
       "      <td>66</td>\n",
       "      <td>202204</td>\n",
       "      <td>1.00</td>\n",
       "    </tr>\n",
       "    <tr>\n",
       "      <th>4</th>\n",
       "      <td>66</td>\n",
       "      <td>202205</td>\n",
       "      <td>1.00</td>\n",
       "    </tr>\n",
       "  </tbody>\n",
       "</table>\n",
       "</div>"
      ],
      "text/plain": [
       "   CODCLAVECIC  codmes  SoW\n",
       "0           66  202201 1.00\n",
       "1           66  202202 1.00\n",
       "2           66  202203 1.00\n",
       "3           66  202204 1.00\n",
       "4           66  202205 1.00"
      ]
     },
     "execution_count": 165,
     "metadata": {},
     "output_type": "execute_result"
    }
   ],
   "source": [
    "pregunta_c = pregunta_c.groupby(['CODCLAVECIC','codmes'])['SoW'].sum()\n",
    "pregunta_c=pd.DataFrame(pregunta_c)\n",
    "pregunta_c.reset_index(inplace=True)\n",
    "pregunta_c.head()"
   ]
  },
  {
   "cell_type": "markdown",
   "id": "2d2acc38",
   "metadata": {},
   "source": [
    "**Respuesta pregunta C**"
   ]
  },
  {
   "cell_type": "code",
   "execution_count": 166,
   "id": "93916eae",
   "metadata": {},
   "outputs": [
    {
     "data": {
      "text/html": [
       "<div>\n",
       "<style scoped>\n",
       "    .dataframe tbody tr th:only-of-type {\n",
       "        vertical-align: middle;\n",
       "    }\n",
       "\n",
       "    .dataframe tbody tr th {\n",
       "        vertical-align: top;\n",
       "    }\n",
       "\n",
       "    .dataframe thead th {\n",
       "        text-align: right;\n",
       "    }\n",
       "</style>\n",
       "<table border=\"1\" class=\"dataframe\">\n",
       "  <thead>\n",
       "    <tr style=\"text-align: right;\">\n",
       "      <th></th>\n",
       "      <th>CODCLAVECIC</th>\n",
       "      <th>codmes</th>\n",
       "      <th>SoW</th>\n",
       "      <th>year</th>\n",
       "      <th>month</th>\n",
       "    </tr>\n",
       "  </thead>\n",
       "  <tbody>\n",
       "    <tr>\n",
       "      <th>181652</th>\n",
       "      <td>14369013</td>\n",
       "      <td>2022-08-01</td>\n",
       "      <td>1.00</td>\n",
       "      <td>2022</td>\n",
       "      <td>8</td>\n",
       "    </tr>\n",
       "    <tr>\n",
       "      <th>212087</th>\n",
       "      <td>19728050</td>\n",
       "      <td>2022-01-01</td>\n",
       "      <td>0.97</td>\n",
       "      <td>2022</td>\n",
       "      <td>1</td>\n",
       "    </tr>\n",
       "    <tr>\n",
       "      <th>181013</th>\n",
       "      <td>14308194</td>\n",
       "      <td>2022-10-01</td>\n",
       "      <td>1.00</td>\n",
       "      <td>2022</td>\n",
       "      <td>10</td>\n",
       "    </tr>\n",
       "    <tr>\n",
       "      <th>81650</th>\n",
       "      <td>5843640</td>\n",
       "      <td>2022-03-01</td>\n",
       "      <td>1.00</td>\n",
       "      <td>2022</td>\n",
       "      <td>3</td>\n",
       "    </tr>\n",
       "    <tr>\n",
       "      <th>213159</th>\n",
       "      <td>19796782</td>\n",
       "      <td>2022-02-01</td>\n",
       "      <td>1.00</td>\n",
       "      <td>2022</td>\n",
       "      <td>2</td>\n",
       "    </tr>\n",
       "    <tr>\n",
       "      <th>130068</th>\n",
       "      <td>9266778</td>\n",
       "      <td>2022-01-01</td>\n",
       "      <td>0.66</td>\n",
       "      <td>2022</td>\n",
       "      <td>1</td>\n",
       "    </tr>\n",
       "    <tr>\n",
       "      <th>219411</th>\n",
       "      <td>21423398</td>\n",
       "      <td>2022-01-01</td>\n",
       "      <td>1.00</td>\n",
       "      <td>2022</td>\n",
       "      <td>1</td>\n",
       "    </tr>\n",
       "    <tr>\n",
       "      <th>90132</th>\n",
       "      <td>6466920</td>\n",
       "      <td>2022-01-01</td>\n",
       "      <td>1.00</td>\n",
       "      <td>2022</td>\n",
       "      <td>1</td>\n",
       "    </tr>\n",
       "    <tr>\n",
       "      <th>247860</th>\n",
       "      <td>23788175</td>\n",
       "      <td>2022-03-01</td>\n",
       "      <td>1.00</td>\n",
       "      <td>2022</td>\n",
       "      <td>3</td>\n",
       "    </tr>\n",
       "    <tr>\n",
       "      <th>76289</th>\n",
       "      <td>5491282</td>\n",
       "      <td>2022-03-01</td>\n",
       "      <td>0.80</td>\n",
       "      <td>2022</td>\n",
       "      <td>3</td>\n",
       "    </tr>\n",
       "  </tbody>\n",
       "</table>\n",
       "</div>"
      ],
      "text/plain": [
       "        CODCLAVECIC     codmes  SoW  year  month\n",
       "181652     14369013 2022-08-01 1.00  2022      8\n",
       "212087     19728050 2022-01-01 0.97  2022      1\n",
       "181013     14308194 2022-10-01 1.00  2022     10\n",
       "81650       5843640 2022-03-01 1.00  2022      3\n",
       "213159     19796782 2022-02-01 1.00  2022      2\n",
       "130068      9266778 2022-01-01 0.66  2022      1\n",
       "219411     21423398 2022-01-01 1.00  2022      1\n",
       "90132       6466920 2022-01-01 1.00  2022      1\n",
       "247860     23788175 2022-03-01 1.00  2022      3\n",
       "76289       5491282 2022-03-01 0.80  2022      3"
      ]
     },
     "execution_count": 166,
     "metadata": {},
     "output_type": "execute_result"
    }
   ],
   "source": [
    "pregunta_c=pregunta_c[pregunta_c['SoW']>0.60]\n",
    "pregunta_c['year']=pregunta_c['codmes'] // 100\n",
    "pregunta_c['month']=pregunta_c['codmes'] % 100\n",
    "pregunta_c['codmes']=pd.to_datetime(pregunta_c['year'].astype(str) + pregunta_c['month'].astype(str), format='%Y%m')\n",
    "pregunta_c.sample(10)"
   ]
  },
  {
   "cell_type": "markdown",
   "id": "e42da575",
   "metadata": {},
   "source": [
    "### **Respuesta pregunta D**"
   ]
  },
  {
   "cell_type": "code",
   "execution_count": 167,
   "id": "3cc6783b",
   "metadata": {},
   "outputs": [
    {
     "data": {
      "image/png": "[encoded data removed]",
      "text/plain": [
       "<Figure size 640x480 with 1 Axes>"
      ]
     },
     "metadata": {},
     "output_type": "display_data"
    }
   ],
   "source": [
    "sns.lineplot(data=pregunta_c,x='codmes',y='SoW')\n",
    "plt.title('Grafico de linea SOW mayor 60%',weight='bold')\n",
    "plt.xlabel('Fecha')\n",
    "plt.show()"
   ]
  },
  {
   "cell_type": "markdown",
   "metadata": {},
   "source": [
    "## Ejercicio 2"
   ]
  },
  {
   "attachments": {
    "Captura%20de%20Pantalla%202023-01-26%20a%20la%28s%29%2017.47.14.png": {
     "image/png": "[encoded data removed]"
    }
   },
   "cell_type": "markdown",
   "metadata": {},
   "source": [
    "#### Parte 1:\n",
    "\n",
    "a) Cree una función que calcule el VAN, a partir de un vector de \"flujos de caja\" y una tasa de descuento. Su función debe funcionar para vectores de diferentes dimensiones.\n",
    "\n",
    "La fórmula de VAN está dada por:\n",
    "\n",
    "![Captura%20de%20Pantalla%202023-01-26%20a%20la%28s%29%2017.47.14.png](attachment:Captura%20de%20Pantalla%202023-01-26%20a%20la%28s%29%2017.47.14.png)"
   ]
  },
  {
   "cell_type": "markdown",
   "id": "145abe02",
   "metadata": {},
   "source": [
    "### **Pregunta A**"
   ]
  },
  {
   "cell_type": "code",
   "execution_count": 168,
   "metadata": {},
   "outputs": [],
   "source": [
    "#Proyecto de ejemplo:\n",
    "\n",
    "vector_de_flujos = [-1900, 255, 227, 250, 158, 298, 199, 150, 169, 278, 188]\n",
    "tasa_de_descuento = 0.0146\n",
    "segmento = \"CONSUMO\""
   ]
  },
  {
   "cell_type": "code",
   "execution_count": 169,
   "metadata": {},
   "outputs": [
    {
     "name": "stdout",
     "output_type": "stream",
     "text": [
      "['CORPORATIVA' 'INSTITUCIONAL' 'JUNIOR' 'MULTINACIONAL' 'NEGOCIOS' 'PYME'\n",
      " 'SENIOR']\n"
     ]
    }
   ],
   "source": [
    "print(pregunta_b['SEGMENTO'].values)"
   ]
  },
  {
   "cell_type": "code",
   "execution_count": 170,
   "id": "3bf7452c",
   "metadata": {},
   "outputs": [
    {
     "name": "stdout",
     "output_type": "stream",
     "text": [
      "Hint de CORPORATIVA: 55277837.72821256\n",
      "Hint de INSTITUCIONAL: 14515978.348999366\n",
      "Hint de JUNIOR: 8106515.377177799\n",
      "Hint de MULTINACIONAL: 33948638.44195911\n",
      "Hint de NEGOCIOS: 9794992.325701715\n",
      "Hint de PYME: 7627090.538178254\n",
      "Hint de SENIOR: 14136086.910354057\n"
     ]
    }
   ],
   "source": [
    "def obtener_hint(segmento):\n",
    "    hint = pregunta_b.loc[pregunta_b['SEGMENTO'] == segmento, 'Hint'].iloc[0]\n",
    "    print(\"Hint de\", segmento + \":\", hint)\n",
    "\n",
    "# Llamar a la función para cada segmento\n",
    "obtener_hint('CORPORATIVA')\n",
    "obtener_hint('INSTITUCIONAL')\n",
    "obtener_hint('JUNIOR')\n",
    "obtener_hint('MULTINACIONAL')\n",
    "obtener_hint('NEGOCIOS')\n",
    "obtener_hint('PYME')\n",
    "obtener_hint('SENIOR')"
   ]
  },
  {
   "cell_type": "code",
   "execution_count": 171,
   "id": "3f3a4b29",
   "metadata": {},
   "outputs": [
    {
     "name": "stdout",
     "output_type": "stream",
     "text": [
      "-55277725.171042226\n",
      "-14515865.791829031\n",
      "-8106402.820007464\n",
      "-33948525.88478878\n",
      "-9794879.76853138\n",
      "-7626977.981007919\n",
      "-14135974.353183722\n"
     ]
    }
   ],
   "source": [
    "def van(segmento):\n",
    "    FCo = pregunta_b.loc[pregunta_b['SEGMENTO'] == segmento, 'Hint'].iloc[0]\n",
    "    VAN = sum([flujo / (1 + tasa_de_descuento) ** indice for indice, flujo in enumerate(vector_de_flujos)]) - FCo\n",
    "    return VAN\n",
    "# Llamar a la función para cada segmento\n",
    "print(van('CORPORATIVA'))\n",
    "print(van('INSTITUCIONAL'))\n",
    "print(van('JUNIOR'))\n",
    "print(van('MULTINACIONAL'))\n",
    "print(van('NEGOCIOS'))\n",
    "print(van('PYME'))\n",
    "print(van('SENIOR'))"
   ]
  },
  {
   "cell_type": "markdown",
   "metadata": {},
   "source": [
    "#### Parte 2:\n",
    "\n",
    "b) Cree una función que señale si debemos aprobar un crédito, a partir de un vector de \"flujos de caja\" y el segmento del cliente. (Hint: utilice sus conocimientos financieros para definir el criterio a partir del valor del VAN).\n",
    "\n",
    "Considere que los segmentos \"BEX\" y \"ENALTA\" tienen una tasa de descuento de 0.0122; y el segmento \"CONSUMO\" de 0.0146"
   ]
  },
  {
   "cell_type": "markdown",
   "id": "bda022dc",
   "metadata": {},
   "source": [
    "### **Pregunta B**"
   ]
  },
  {
   "cell_type": "code",
   "execution_count": 172,
   "metadata": {},
   "outputs": [
    {
     "data": {
      "text/html": [
       "<style type=\"text/css\">\n",
       "#T_9eae3_row0_col1, #T_9eae3_row1_col1, #T_9eae3_row2_col1, #T_9eae3_row3_col1, #T_9eae3_row4_col1, #T_9eae3_row5_col1, #T_9eae3_row6_col1 {\n",
       "  background-color: red;\n",
       "}\n",
       "</style>\n",
       "<table id=\"T_9eae3\">\n",
       "  <thead>\n",
       "    <tr>\n",
       "      <th class=\"blank level0\" >&nbsp;</th>\n",
       "      <th id=\"T_9eae3_level0_col0\" class=\"col_heading level0 col0\" >Segmento</th>\n",
       "      <th id=\"T_9eae3_level0_col1\" class=\"col_heading level0 col1\" >Bex_VAN</th>\n",
       "      <th id=\"T_9eae3_level0_col2\" class=\"col_heading level0 col2\" >Consumo_VAN</th>\n",
       "    </tr>\n",
       "  </thead>\n",
       "  <tbody>\n",
       "    <tr>\n",
       "      <th id=\"T_9eae3_level0_row0\" class=\"row_heading level0 row0\" >0</th>\n",
       "      <td id=\"T_9eae3_row0_col0\" class=\"data row0 col0\" >CORPORATIVA</td>\n",
       "      <td id=\"T_9eae3_row0_col1\" class=\"data row0 col1\" >-55277700.192015</td>\n",
       "      <td id=\"T_9eae3_row0_col2\" class=\"data row0 col2\" >-55277725.171042</td>\n",
       "    </tr>\n",
       "    <tr>\n",
       "      <th id=\"T_9eae3_level0_row1\" class=\"row_heading level0 row1\" >1</th>\n",
       "      <td id=\"T_9eae3_row1_col0\" class=\"data row1 col0\" >INSTITUCIONAL</td>\n",
       "      <td id=\"T_9eae3_row1_col1\" class=\"data row1 col1\" >-14515840.812802</td>\n",
       "      <td id=\"T_9eae3_row1_col2\" class=\"data row1 col2\" >-14515865.791829</td>\n",
       "    </tr>\n",
       "    <tr>\n",
       "      <th id=\"T_9eae3_level0_row2\" class=\"row_heading level0 row2\" >2</th>\n",
       "      <td id=\"T_9eae3_row2_col0\" class=\"data row2 col0\" >JUNIOR</td>\n",
       "      <td id=\"T_9eae3_row2_col1\" class=\"data row2 col1\" >-8106377.840981</td>\n",
       "      <td id=\"T_9eae3_row2_col2\" class=\"data row2 col2\" >-8106402.820007</td>\n",
       "    </tr>\n",
       "    <tr>\n",
       "      <th id=\"T_9eae3_level0_row3\" class=\"row_heading level0 row3\" >3</th>\n",
       "      <td id=\"T_9eae3_row3_col0\" class=\"data row3 col0\" >MULTINACIONAL</td>\n",
       "      <td id=\"T_9eae3_row3_col1\" class=\"data row3 col1\" >-33948500.905762</td>\n",
       "      <td id=\"T_9eae3_row3_col2\" class=\"data row3 col2\" >-33948525.884789</td>\n",
       "    </tr>\n",
       "    <tr>\n",
       "      <th id=\"T_9eae3_level0_row4\" class=\"row_heading level0 row4\" >4</th>\n",
       "      <td id=\"T_9eae3_row4_col0\" class=\"data row4 col0\" >NEGOCIOS</td>\n",
       "      <td id=\"T_9eae3_row4_col1\" class=\"data row4 col1\" >-9794854.789505</td>\n",
       "      <td id=\"T_9eae3_row4_col2\" class=\"data row4 col2\" >-9794879.768531</td>\n",
       "    </tr>\n",
       "    <tr>\n",
       "      <th id=\"T_9eae3_level0_row5\" class=\"row_heading level0 row5\" >5</th>\n",
       "      <td id=\"T_9eae3_row5_col0\" class=\"data row5 col0\" >PYME</td>\n",
       "      <td id=\"T_9eae3_row5_col1\" class=\"data row5 col1\" >-7626953.001981</td>\n",
       "      <td id=\"T_9eae3_row5_col2\" class=\"data row5 col2\" >-7626977.981008</td>\n",
       "    </tr>\n",
       "    <tr>\n",
       "      <th id=\"T_9eae3_level0_row6\" class=\"row_heading level0 row6\" >6</th>\n",
       "      <td id=\"T_9eae3_row6_col0\" class=\"data row6 col0\" >SENIOR</td>\n",
       "      <td id=\"T_9eae3_row6_col1\" class=\"data row6 col1\" >-14135949.374157</td>\n",
       "      <td id=\"T_9eae3_row6_col2\" class=\"data row6 col2\" >-14135974.353184</td>\n",
       "    </tr>\n",
       "  </tbody>\n",
       "</table>\n"
      ],
      "text/plain": [
       "<pandas.io.formats.style.Styler at 0x1524dc979b0>"
      ]
     },
     "execution_count": 172,
     "metadata": {},
     "output_type": "execute_result"
    }
   ],
   "source": [
    "bex=0.0122\n",
    "consumo=0.0146\n",
    "def van(segmento,tasa_de_descuento):\n",
    "    FCo = pregunta_b.loc[pregunta_b['SEGMENTO'] == segmento, 'Hint'].iloc[0]\n",
    "    VAN = sum([flujo / (1 + tasa_de_descuento) ** indice for indice, flujo in enumerate(vector_de_flujos)]) - FCo\n",
    "    return VAN\n",
    "# Crear un diccionario con los datos\n",
    "datos = {\n",
    "    'Segmento': ['CORPORATIVA', 'INSTITUCIONAL', 'JUNIOR', 'MULTINACIONAL', 'NEGOCIOS', 'PYME', 'SENIOR'],\n",
    "    'Bex_VAN': [van('CORPORATIVA', bex), van('INSTITUCIONAL', bex), van('JUNIOR', bex), \n",
    "                van('MULTINACIONAL', bex), van('NEGOCIOS', bex), van('PYME', bex), van('SENIOR', bex)],\n",
    "    'Consumo_VAN': [van('CORPORATIVA', consumo), van('INSTITUCIONAL', consumo), van('JUNIOR', consumo), \n",
    "                    van('MULTINACIONAL', consumo), van('NEGOCIOS', consumo), van('PYME', consumo), van('SENIOR', consumo)]\n",
    "}\n",
    "\n",
    "# Crear un DataFrame a partir del diccionario\n",
    "df_bex_consumo = pd.DataFrame(datos)\n",
    "\n",
    "# Función para aplicar estilos condicionales\n",
    "def highlight_max(row):\n",
    "    \"\"\"\n",
    "    Función para sombrear de rojo la celda en 'Bex_VAN' si es mayor que en 'Consumo_VAN',\n",
    "    o en 'Consumo_VAN' si es mayor que en 'Bex_VAN'.\n",
    "    \"\"\"\n",
    "    styles = [''] * len(row)\n",
    "    max_column = 'Bex_VAN' if row['Bex_VAN'] > row['Consumo_VAN'] else 'Consumo_VAN'\n",
    "    max_index = row.index.get_loc(max_column)\n",
    "    styles[max_index] = 'background-color: red'\n",
    "    return styles\n",
    "\n",
    "# Aplicar la función a las filas del DataFrame\n",
    "styled_df = df_bex_consumo.style.apply(highlight_max, axis=1)\n",
    "\n",
    "# Mostrar el DataFrame estilizado\n",
    "styled_df\n"
   ]
  },
  {
   "cell_type": "markdown",
   "metadata": {},
   "source": [
    "#### Parte 3:\n",
    "\n",
    "c) Cree un vector de tasas entre 0% (0.0000) y 5% (0.0500) con incrementos de 10 puntos básicos entre ellas (Hint: 1 punto básico es igual a 0.0001).\n",
    "\n",
    "d) A partir de la función de la pregunta (a) y el vector de la pregunta (c); cree un gráfico que muestre la relación entre la tasa de descuento y el VAN. Use el proyecto de ejemplo en su respuesta. (En caso utilice librerías, puede utilizar la de su preferencia)."
   ]
  },
  {
   "cell_type": "code",
   "execution_count": 173,
   "metadata": {},
   "outputs": [
    {
     "name": "stdout",
     "output_type": "stream",
     "text": [
      "[0.    0.001 0.002 0.003 0.004 0.005 0.006 0.007 0.008 0.009 0.01  0.011\n",
      " 0.012 0.013 0.014 0.015 0.016 0.017 0.018 0.019 0.02  0.021 0.022 0.023\n",
      " 0.024 0.025 0.026 0.027 0.028 0.029 0.03  0.031 0.032 0.033 0.034 0.035\n",
      " 0.036 0.037 0.038 0.039 0.04  0.041 0.042 0.043 0.044 0.045 0.046 0.047\n",
      " 0.048 0.049 0.05 ]\n"
     ]
    }
   ],
   "source": [
    "# Pregunta C\n",
    "# Definir el rango de tasas\n",
    "tasa_inicial = 0.0\n",
    "tasa_final = 0.05\n",
    "incremento = 0.001  # Esto equivale a 10 puntos básicos\n",
    "# Crear el vector de tasas\n",
    "vector_de_tasas = np.arange(tasa_inicial, tasa_final + incremento, incremento)\n",
    "# Imprimir el vector de tasas\n",
    "print(vector_de_tasas)"
   ]
  },
  {
   "cell_type": "code",
   "execution_count": 174,
   "metadata": {},
   "outputs": [
    {
     "data": {
      "image/png": "[encoded data removed]",
      "text/plain": [
       "<Figure size 1000x800 with 1 Axes>"
      ]
     },
     "metadata": {},
     "output_type": "display_data"
    }
   ],
   "source": [
    "plt.figure(figsize=(10,8))\n",
    "sns.histplot(vector_de_tasas,kde=True)\n",
    "plt.title('Histograma de Tasas', fontsize=12,weight='bold')\n",
    "plt.ylabel('')\n",
    "plt.show()"
   ]
  },
  {
   "cell_type": "code",
   "execution_count": 175,
   "id": "cf5d7692",
   "metadata": {},
   "outputs": [
    {
     "data": {
      "image/png": "[encoded data removed]",
      "text/plain": [
       "<Figure size 1000x600 with 1 Axes>"
      ]
     },
     "metadata": {},
     "output_type": "display_data"
    }
   ],
   "source": [
    "# Definir la serie de flujos de efectivo del proyecto de inversión\n",
    "flujos_de_efectivo = [-1900, 255, 227, 250, 158, 298, 199, 150, 169, 278, 188]\n",
    "\n",
    "# Calcular el VAN para diferentes tasas de descuento\n",
    "vector_de_tasas\n",
    "vans = [npf.npv(tasa, flujos_de_efectivo) for tasa in vector_de_tasas]\n",
    "\n",
    "# Calcular la TIR\n",
    "tir = npf.irr(flujos_de_efectivo)\n",
    "# Definir los datos\n",
    "data = {'Tasa de Descuento': vector_de_tasas, 'VAN': vans}\n",
    "df_tax = pd.DataFrame(data)\n",
    "# Grafico van y tir\n",
    "plt.figure(figsize=(10, 6))\n",
    "sns.lineplot(data=df_tax, x='Tasa de Descuento', y='VAN', color='blue', label='VAN')\n",
    "plt.axhline(y=0, color='black', linestyle='--', linewidth=0.5)  # Línea horizontal en el eje y en VAN = 0\n",
    "plt.axvline(x=tir, color='red', linestyle='--', linewidth=0.5, label=f'TIR: {tir:.2%}')  # Línea vertical en la TIR\n",
    "plt.title('Intersección de Fisher: VAN y TIR')\n",
    "plt.xlabel('Tasa de Descuento')\n",
    "plt.ylabel('Valor Actual Neto (VAN)')\n",
    "plt.legend()\n",
    "plt.grid(True)\n",
    "plt.show()"
   ]
  },
  {
   "cell_type": "markdown",
   "metadata": {},
   "source": [
    "#### Parte 4:\n",
    "\n",
    "e) La TIR se define como la tasa de descuento que hace que el VAN sea igual a cero. Aproximadamente, ¿cuál sería la TIR del proyecto de ejemplo? (Hint: puede apoyarse en el gráfico de la pregunta (c)).\n",
    "\n",
    "f) Cree una función que _aproxime_ la TIR, a partir de un vector de \"flujos de caja\". En esta pregunta hay libertad creativa; puede incluir más argumentos en su función si lo considera necesario. Indique las limitaciones de su función. (Hint: no necesita usar librerías de optimización)."
   ]
  },
  {
   "cell_type": "markdown",
   "id": "cc8f5b19",
   "metadata": {},
   "source": [
    "**Pregunta E**"
   ]
  },
  {
   "cell_type": "code",
   "execution_count": 176,
   "metadata": {},
   "outputs": [
    {
     "name": "stdout",
     "output_type": "stream",
     "text": [
      "La TIR del proyecto de ejemplo es aproximadamente: 2.60%\n"
     ]
    }
   ],
   "source": [
    "# Calcular la TIR\n",
    "tir = npf.irr(flujos_de_efectivo)\n",
    "\n",
    "print(f\"La TIR del proyecto de ejemplo es aproximadamente: {tir:.2%}\")"
   ]
  },
  {
   "cell_type": "markdown",
   "id": "010a1f07",
   "metadata": {},
   "source": [
    "**Pregunta F**"
   ]
  },
  {
   "cell_type": "code",
   "execution_count": 177,
   "metadata": {},
   "outputs": [
    {
     "name": "stdout",
     "output_type": "stream",
     "text": [
      "TIR Aproximada: 2.5999402726909575 %\n"
     ]
    }
   ],
   "source": [
    "def approx_tir(flujos_de_efectivo, iter_max=1000, tol=1e-6):\n",
    "    \"\"\"\n",
    "    Aproxima la TIR de un proyecto a partir de un vector de flujos de efectivo.\n",
    "\n",
    "    Parameters:\n",
    "        flujos_de_efectivo (list): Lista de flujos de efectivo del proyecto.\n",
    "        iter_max (int): Número máximo de iteraciones permitidas.\n",
    "        tol (float): Tolerancia para la convergencia.\n",
    "\n",
    "    Returns:\n",
    "        float: Aproximación de la TIR del proyecto.\n",
    "    \"\"\"\n",
    "    # Función para calcular el VAN\n",
    "    def calculate_van(rate):\n",
    "        return sum([cf / (1 + rate) ** i for i, cf in enumerate(flujos_de_efectivo)])\n",
    "\n",
    "    # Aproximaciones iniciales de la TIR\n",
    "    x0 = 0.0\n",
    "    x1 = 0.1\n",
    "\n",
    "    # Iterar utilizando el método de la secante\n",
    "    for i in range(iter_max):\n",
    "        f0 = calculate_van(x0)\n",
    "        f1 = calculate_van(x1)\n",
    "        if abs(f1 - f0) < tol:\n",
    "            break\n",
    "        x_next = x1 - f1 * (x1 - x0) / (f1 - f0)\n",
    "        x0, x1 = x1, x_next\n",
    "\n",
    "    return x1\n",
    "\n",
    "# Ejemplo de uso\n",
    "tir_aproximada = approx_tir(flujos_de_efectivo)\n",
    "print(f\"TIR Aproximada: {tir_aproximada*100} %\")\n"
   ]
  }
 ],
 "metadata": {
  "kernelspec": {
   "display_name": "Python 3",
   "language": "python",
   "name": "python3"
  },
  "language_info": {
   "codemirror_mode": {
    "name": "ipython",
    "version": 3
   },
   "file_extension": ".py",
   "mimetype": "text/x-python",
   "name": "python",
   "nbconvert_exporter": "python",
   "pygments_lexer": "ipython3",
   "version": "3.12.1"
  }
 },
 "nbformat": 4,
 "nbformat_minor": 5
}
