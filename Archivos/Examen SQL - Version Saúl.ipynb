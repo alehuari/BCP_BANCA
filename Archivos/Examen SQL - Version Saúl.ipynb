{
    "metadata": {
        "kernelspec": {
            "name": "SQL",
            "display_name": "SQL",
            "language": "sql"
        },
        "language_info": {
            "name": "sql",
            "version": ""
        }
    },
    "nbformat_minor": 2,
    "nbformat": 4,
    "cells": [
        {
            "cell_type": "markdown",
            "source": [
                "## **Prubeas SQL BCP**"
            ],
            "metadata": {
                "azdata_cell_guid": "f5a58e45-6f10-4145-b8c4-40ea83ba1e58"
            },
            "attachments": {}
        },
        {
            "cell_type": "code",
            "source": [
                "use bcp_risk\r\n",
                "\r\n",
                "select * from dbo.[T.CLIENTES]\r\n",
                "\r\n",
                "select * from dbo.[T.ENTIDADES]\r\n",
                "\r\n",
                "SELECT * from dbo.[T_TRAMOS DE MORA]"
            ],
            "metadata": {
                "azdata_cell_guid": "b584a0a6-a1cc-4b2a-a40b-8239497d36c2",
                "language": "sql"
            },
            "outputs": [
                {
                    "output_type": "display_data",
                    "data": {
                        "text/html": "(8 rows affected)"
                    },
                    "metadata": {}
                },
                {
                    "output_type": "display_data",
                    "data": {
                        "text/html": "(4 rows affected)"
                    },
                    "metadata": {}
                },
                {
                    "output_type": "display_data",
                    "data": {
                        "text/html": "(5 rows affected)"
                    },
                    "metadata": {}
                },
                {
                    "output_type": "display_data",
                    "data": {
                        "text/html": "Total execution time: 00:00:00.023"
                    },
                    "metadata": {}
                },
                {
                    "output_type": "execute_result",
                    "metadata": {},
                    "execution_count": 1,
                    "data": {
                        "application/vnd.dataresource+json": {
                            "schema": {
                                "fields": [
                                    {
                                        "name": "IDC"
                                    },
                                    {
                                        "name": "CODENTIDAD"
                                    },
                                    {
                                        "name": "CODPRODUCTO"
                                    },
                                    {
                                        "name": "SALDO"
                                    },
                                    {
                                        "name": "DIAS MORA"
                                    }
                                ]
                            },
                            "data": [
                                {
                                    "IDC": "1",
                                    "CODENTIDAD": "00001",
                                    "CODPRODUCTO": "CEF",
                                    "SALDO": "800.00",
                                    "DIAS MORA": "15"
                                },
                                {
                                    "IDC": "2",
                                    "CODENTIDAD": "00002",
                                    "CODPRODUCTO": "TC",
                                    "SALDO": "1200.00",
                                    "DIAS MORA": "16"
                                },
                                {
                                    "IDC": "3",
                                    "CODENTIDAD": "00002",
                                    "CODPRODUCTO": "CEF",
                                    "SALDO": "4500.00",
                                    "DIAS MORA": "86"
                                },
                                {
                                    "IDC": "4",
                                    "CODENTIDAD": "00004",
                                    "CODPRODUCTO": "TC",
                                    "SALDO": "3500.00",
                                    "DIAS MORA": "121"
                                },
                                {
                                    "IDC": "5",
                                    "CODENTIDAD": "00001",
                                    "CODPRODUCTO": "VEN",
                                    "SALDO": "65000.00",
                                    "DIAS MORA": "7"
                                },
                                {
                                    "IDC": "6",
                                    "CODENTIDAD": "00003",
                                    "CODPRODUCTO": "CONVENIO",
                                    "SALDO": "52400.00",
                                    "DIAS MORA": "53"
                                },
                                {
                                    "IDC": "7",
                                    "CODENTIDAD": "00003",
                                    "CODPRODUCTO": "CEF",
                                    "SALDO": "12000.00",
                                    "DIAS MORA": "61"
                                },
                                {
                                    "IDC": "8",
                                    "CODENTIDAD": "00001",
                                    "CODPRODUCTO": "CONVENIO",
                                    "SALDO": "7580.00",
                                    "DIAS MORA": "360"
                                }
                            ]
                        },
                        "text/html": [
                            "<table>",
                            "<tr><th>IDC</th><th>CODENTIDAD</th><th>CODPRODUCTO</th><th>SALDO</th><th>DIAS MORA</th></tr>",
                            "<tr><td>1</td><td>00001</td><td>CEF</td><td>800.00</td><td>15</td></tr>",
                            "<tr><td>2</td><td>00002</td><td>TC</td><td>1200.00</td><td>16</td></tr>",
                            "<tr><td>3</td><td>00002</td><td>CEF</td><td>4500.00</td><td>86</td></tr>",
                            "<tr><td>4</td><td>00004</td><td>TC</td><td>3500.00</td><td>121</td></tr>",
                            "<tr><td>5</td><td>00001</td><td>VEN</td><td>65000.00</td><td>7</td></tr>",
                            "<tr><td>6</td><td>00003</td><td>CONVENIO</td><td>52400.00</td><td>53</td></tr>",
                            "<tr><td>7</td><td>00003</td><td>CEF</td><td>12000.00</td><td>61</td></tr>",
                            "<tr><td>8</td><td>00001</td><td>CONVENIO</td><td>7580.00</td><td>360</td></tr>",
                            "</table>"
                        ]
                    }
                },
                {
                    "output_type": "execute_result",
                    "metadata": {},
                    "execution_count": 1,
                    "data": {
                        "application/vnd.dataresource+json": {
                            "schema": {
                                "fields": [
                                    {
                                        "name": "CODEENTIDAD"
                                    },
                                    {
                                        "name": "NOMBREENTIDAD"
                                    }
                                ]
                            },
                            "data": [
                                {
                                    "CODEENTIDAD": "00001",
                                    "NOMBREENTIDAD": "BCP"
                                },
                                {
                                    "CODEENTIDAD": "00002",
                                    "NOMBREENTIDAD": "INTERBANK"
                                },
                                {
                                    "CODEENTIDAD": "00003",
                                    "NOMBREENTIDAD": "BBVA"
                                },
                                {
                                    "CODEENTIDAD": "00004",
                                    "NOMBREENTIDAD": "SCOTIABANK"
                                }
                            ]
                        },
                        "text/html": [
                            "<table>",
                            "<tr><th>CODEENTIDAD</th><th>NOMBREENTIDAD</th></tr>",
                            "<tr><td>00001</td><td>BCP</td></tr>",
                            "<tr><td>00002</td><td>INTERBANK</td></tr>",
                            "<tr><td>00003</td><td>BBVA</td></tr>",
                            "<tr><td>00004</td><td>SCOTIABANK</td></tr>",
                            "</table>"
                        ]
                    }
                },
                {
                    "output_type": "execute_result",
                    "metadata": {},
                    "execution_count": 1,
                    "data": {
                        "application/vnd.dataresource+json": {
                            "schema": {
                                "fields": [
                                    {
                                        "name": "TRAMO MORA"
                                    },
                                    {
                                        "name": "CLASIFICACION"
                                    }
                                ]
                            },
                            "data": [
                                {
                                    "TRAMO MORA": "0-8",
                                    "CLASIFICACION": "NO        "
                                },
                                {
                                    "TRAMO MORA": "9-30",
                                    "CLASIFICACION": "PP        "
                                },
                                {
                                    "TRAMO MORA": "31-60",
                                    "CLASIFICACION": "DE        "
                                },
                                {
                                    "TRAMO MORA": "61-120",
                                    "CLASIFICACION": "DU        "
                                },
                                {
                                    "TRAMO MORA": ">121",
                                    "CLASIFICACION": "PE        "
                                }
                            ]
                        },
                        "text/html": [
                            "<table>",
                            "<tr><th>TRAMO MORA</th><th>CLASIFICACION</th></tr>",
                            "<tr><td>0-8</td><td>NO        </td></tr>",
                            "<tr><td>9-30</td><td>PP        </td></tr>",
                            "<tr><td>31-60</td><td>DE        </td></tr>",
                            "<tr><td>61-120</td><td>DU        </td></tr>",
                            "<tr><td>&gt;121</td><td>PE        </td></tr>",
                            "</table>"
                        ]
                    }
                }
            ],
            "execution_count": 1
        },
        {
            "cell_type": "markdown",
            "source": [
                "## **1.\tDe la tabla T. CLIENTES obtener el máximo valor del campo DIAS_MORA. ¿Cuántos clientes tiene cada entidad?**"
            ],
            "metadata": {
                "language": "sql",
                "azdata_cell_guid": "d4517e25-a6fe-4fef-8a68-507acb690bd5"
            },
            "attachments": {}
        },
        {
            "cell_type": "code",
            "source": [
                "SELECT * FROM dbo.V_CLIENTES_ENTIDADES"
            ],
            "metadata": {
                "language": "sql",
                "azdata_cell_guid": "73e874b9-bfc7-45f7-a42d-ce95f9e2cf06"
            },
            "outputs": [
                {
                    "output_type": "display_data",
                    "data": {
                        "text/html": "(8 rows affected)"
                    },
                    "metadata": {}
                },
                {
                    "output_type": "display_data",
                    "data": {
                        "text/html": "Total execution time: 00:00:00.006"
                    },
                    "metadata": {}
                },
                {
                    "output_type": "execute_result",
                    "metadata": {},
                    "execution_count": 2,
                    "data": {
                        "application/vnd.dataresource+json": {
                            "schema": {
                                "fields": [
                                    {
                                        "name": "CODENTIDAD"
                                    },
                                    {
                                        "name": "IDC"
                                    },
                                    {
                                        "name": "CODPRODUCTO"
                                    },
                                    {
                                        "name": "SALDO"
                                    },
                                    {
                                        "name": "DIAS MORA"
                                    },
                                    {
                                        "name": "NOMBREENTIDAD"
                                    }
                                ]
                            },
                            "data": [
                                {
                                    "CODENTIDAD": "00001",
                                    "IDC": "1",
                                    "CODPRODUCTO": "CEF",
                                    "SALDO": "800.00",
                                    "DIAS MORA": "15",
                                    "NOMBREENTIDAD": "BCP"
                                },
                                {
                                    "CODENTIDAD": "00002",
                                    "IDC": "2",
                                    "CODPRODUCTO": "TC",
                                    "SALDO": "1200.00",
                                    "DIAS MORA": "16",
                                    "NOMBREENTIDAD": "INTERBANK"
                                },
                                {
                                    "CODENTIDAD": "00002",
                                    "IDC": "3",
                                    "CODPRODUCTO": "CEF",
                                    "SALDO": "4500.00",
                                    "DIAS MORA": "86",
                                    "NOMBREENTIDAD": "INTERBANK"
                                },
                                {
                                    "CODENTIDAD": "00004",
                                    "IDC": "4",
                                    "CODPRODUCTO": "TC",
                                    "SALDO": "3500.00",
                                    "DIAS MORA": "121",
                                    "NOMBREENTIDAD": "SCOTIABANK"
                                },
                                {
                                    "CODENTIDAD": "00001",
                                    "IDC": "5",
                                    "CODPRODUCTO": "VEN",
                                    "SALDO": "65000.00",
                                    "DIAS MORA": "7",
                                    "NOMBREENTIDAD": "BCP"
                                },
                                {
                                    "CODENTIDAD": "00003",
                                    "IDC": "6",
                                    "CODPRODUCTO": "CONVENIO",
                                    "SALDO": "52400.00",
                                    "DIAS MORA": "53",
                                    "NOMBREENTIDAD": "BBVA"
                                },
                                {
                                    "CODENTIDAD": "00003",
                                    "IDC": "7",
                                    "CODPRODUCTO": "CEF",
                                    "SALDO": "12000.00",
                                    "DIAS MORA": "61",
                                    "NOMBREENTIDAD": "BBVA"
                                },
                                {
                                    "CODENTIDAD": "00001",
                                    "IDC": "8",
                                    "CODPRODUCTO": "CONVENIO",
                                    "SALDO": "7580.00",
                                    "DIAS MORA": "360",
                                    "NOMBREENTIDAD": "BCP"
                                }
                            ]
                        },
                        "text/html": [
                            "<table>",
                            "<tr><th>CODENTIDAD</th><th>IDC</th><th>CODPRODUCTO</th><th>SALDO</th><th>DIAS MORA</th><th>NOMBREENTIDAD</th></tr>",
                            "<tr><td>00001</td><td>1</td><td>CEF</td><td>800.00</td><td>15</td><td>BCP</td></tr>",
                            "<tr><td>00002</td><td>2</td><td>TC</td><td>1200.00</td><td>16</td><td>INTERBANK</td></tr>",
                            "<tr><td>00002</td><td>3</td><td>CEF</td><td>4500.00</td><td>86</td><td>INTERBANK</td></tr>",
                            "<tr><td>00004</td><td>4</td><td>TC</td><td>3500.00</td><td>121</td><td>SCOTIABANK</td></tr>",
                            "<tr><td>00001</td><td>5</td><td>VEN</td><td>65000.00</td><td>7</td><td>BCP</td></tr>",
                            "<tr><td>00003</td><td>6</td><td>CONVENIO</td><td>52400.00</td><td>53</td><td>BBVA</td></tr>",
                            "<tr><td>00003</td><td>7</td><td>CEF</td><td>12000.00</td><td>61</td><td>BBVA</td></tr>",
                            "<tr><td>00001</td><td>8</td><td>CONVENIO</td><td>7580.00</td><td>360</td><td>BCP</td></tr>",
                            "</table>"
                        ]
                    }
                }
            ],
            "execution_count": 2
        },
        {
            "cell_type": "code",
            "source": [
                "SELECT NOMBREENTIDAD ,MAX([DIAS MORA]) AS 'Maximo de horas'\r\n",
                " FROM dbo.V_CLIENTES_ENTIDADES\r\n",
                "GROUP BY NOMBREENTIDAD"
            ],
            "metadata": {
                "language": "sql",
                "azdata_cell_guid": "826aa9fc-03ae-4be3-afb2-16c661feae12"
            },
            "outputs": [
                {
                    "output_type": "display_data",
                    "data": {
                        "text/html": "(4 rows affected)"
                    },
                    "metadata": {}
                },
                {
                    "output_type": "display_data",
                    "data": {
                        "text/html": "Total execution time: 00:00:00.007"
                    },
                    "metadata": {}
                },
                {
                    "output_type": "execute_result",
                    "metadata": {},
                    "execution_count": 3,
                    "data": {
                        "application/vnd.dataresource+json": {
                            "schema": {
                                "fields": [
                                    {
                                        "name": "NOMBREENTIDAD"
                                    },
                                    {
                                        "name": "Maximo de horas"
                                    }
                                ]
                            },
                            "data": [
                                {
                                    "NOMBREENTIDAD": "BBVA",
                                    "Maximo de horas": "61"
                                },
                                {
                                    "NOMBREENTIDAD": "BCP",
                                    "Maximo de horas": "360"
                                },
                                {
                                    "NOMBREENTIDAD": "INTERBANK",
                                    "Maximo de horas": "86"
                                },
                                {
                                    "NOMBREENTIDAD": "SCOTIABANK",
                                    "Maximo de horas": "121"
                                }
                            ]
                        },
                        "text/html": [
                            "<table>",
                            "<tr><th>NOMBREENTIDAD</th><th>Maximo de horas</th></tr>",
                            "<tr><td>BBVA</td><td>61</td></tr>",
                            "<tr><td>BCP</td><td>360</td></tr>",
                            "<tr><td>INTERBANK</td><td>86</td></tr>",
                            "<tr><td>SCOTIABANK</td><td>121</td></tr>",
                            "</table>"
                        ]
                    }
                }
            ],
            "execution_count": 3
        },
        {
            "cell_type": "code",
            "source": [
                "SELECT T.NOMBREENTIDAD, SUM(IDC) AS ' # CLIENTES' FROM dbo.V_CLIENTES_ENTIDADES AS T GROUP BY T.NOMBREENTIDAD"
            ],
            "metadata": {
                "language": "sql",
                "azdata_cell_guid": "269fbe17-7b51-42fa-9b49-af3b8109dc75"
            },
            "outputs": [
                {
                    "output_type": "display_data",
                    "data": {
                        "text/html": "(4 rows affected)"
                    },
                    "metadata": {}
                },
                {
                    "output_type": "display_data",
                    "data": {
                        "text/html": "Total execution time: 00:00:00.012"
                    },
                    "metadata": {}
                },
                {
                    "output_type": "execute_result",
                    "metadata": {},
                    "execution_count": 4,
                    "data": {
                        "application/vnd.dataresource+json": {
                            "schema": {
                                "fields": [
                                    {
                                        "name": "NOMBREENTIDAD"
                                    },
                                    {
                                        "name": " # CLIENTES"
                                    }
                                ]
                            },
                            "data": [
                                {
                                    "NOMBREENTIDAD": "BBVA",
                                    " # CLIENTES": "13"
                                },
                                {
                                    "NOMBREENTIDAD": "BCP",
                                    " # CLIENTES": "14"
                                },
                                {
                                    "NOMBREENTIDAD": "INTERBANK",
                                    " # CLIENTES": "5"
                                },
                                {
                                    "NOMBREENTIDAD": "SCOTIABANK",
                                    " # CLIENTES": "4"
                                }
                            ]
                        },
                        "text/html": [
                            "<table>",
                            "<tr><th>NOMBREENTIDAD</th><th> # CLIENTES</th></tr>",
                            "<tr><td>BBVA</td><td>13</td></tr>",
                            "<tr><td>BCP</td><td>14</td></tr>",
                            "<tr><td>INTERBANK</td><td>5</td></tr>",
                            "<tr><td>SCOTIABANK</td><td>4</td></tr>",
                            "</table>"
                        ]
                    }
                }
            ],
            "execution_count": 4
        },
        {
            "cell_type": "markdown",
            "source": [
                "## **2.\tA partir de la tabla T. CLIENTES Y T. TRAMOS DE MORA construir el campo CLASIFICACION para cada cliente.**"
            ],
            "metadata": {
                "language": "sql",
                "azdata_cell_guid": "4840bb47-1b6f-46a4-9686-4ef4361a4fa7"
            },
            "attachments": {}
        },
        {
            "cell_type": "code",
            "source": [
                "SELECT \r\n",
                "    *,\r\n",
                "    CASE \r\n",
                "        WHEN T.[DIAS MORA] BETWEEN 0 AND 8 THEN 'NO'\r\n",
                "        WHEN T.[DIAS MORA]  BETWEEN 9 AND 30 THEN 'PP'\r\n",
                "        WHEN T.[DIAS MORA]  BETWEEN 31 AND 60 THEN 'DE'\r\n",
                "        WHEN T.[DIAS MORA]  BETWEEN 61 AND 120 THEN 'DU'\r\n",
                "        ELSE 'PE'\r\n",
                "    END AS Clasificacion\r\n",
                "FROM \r\n",
                "    [dbo].[T.CLIENTES] AS T"
            ],
            "metadata": {
                "language": "sql",
                "azdata_cell_guid": "c5515d52-9ec3-41d5-bc7f-182ae2ea9b2c"
            },
            "outputs": [
                {
                    "output_type": "display_data",
                    "data": {
                        "text/html": "(8 rows affected)"
                    },
                    "metadata": {}
                },
                {
                    "output_type": "display_data",
                    "data": {
                        "text/html": "Total execution time: 00:00:00.007"
                    },
                    "metadata": {}
                },
                {
                    "output_type": "execute_result",
                    "metadata": {},
                    "execution_count": 5,
                    "data": {
                        "application/vnd.dataresource+json": {
                            "schema": {
                                "fields": [
                                    {
                                        "name": "IDC"
                                    },
                                    {
                                        "name": "CODENTIDAD"
                                    },
                                    {
                                        "name": "CODPRODUCTO"
                                    },
                                    {
                                        "name": "SALDO"
                                    },
                                    {
                                        "name": "DIAS MORA"
                                    },
                                    {
                                        "name": "Clasificacion"
                                    }
                                ]
                            },
                            "data": [
                                {
                                    "IDC": "1",
                                    "CODENTIDAD": "00001",
                                    "CODPRODUCTO": "CEF",
                                    "SALDO": "800.00",
                                    "DIAS MORA": "15",
                                    "Clasificacion": "PP"
                                },
                                {
                                    "IDC": "2",
                                    "CODENTIDAD": "00002",
                                    "CODPRODUCTO": "TC",
                                    "SALDO": "1200.00",
                                    "DIAS MORA": "16",
                                    "Clasificacion": "PP"
                                },
                                {
                                    "IDC": "3",
                                    "CODENTIDAD": "00002",
                                    "CODPRODUCTO": "CEF",
                                    "SALDO": "4500.00",
                                    "DIAS MORA": "86",
                                    "Clasificacion": "DU"
                                },
                                {
                                    "IDC": "4",
                                    "CODENTIDAD": "00004",
                                    "CODPRODUCTO": "TC",
                                    "SALDO": "3500.00",
                                    "DIAS MORA": "121",
                                    "Clasificacion": "PE"
                                },
                                {
                                    "IDC": "5",
                                    "CODENTIDAD": "00001",
                                    "CODPRODUCTO": "VEN",
                                    "SALDO": "65000.00",
                                    "DIAS MORA": "7",
                                    "Clasificacion": "NO"
                                },
                                {
                                    "IDC": "6",
                                    "CODENTIDAD": "00003",
                                    "CODPRODUCTO": "CONVENIO",
                                    "SALDO": "52400.00",
                                    "DIAS MORA": "53",
                                    "Clasificacion": "DE"
                                },
                                {
                                    "IDC": "7",
                                    "CODENTIDAD": "00003",
                                    "CODPRODUCTO": "CEF",
                                    "SALDO": "12000.00",
                                    "DIAS MORA": "61",
                                    "Clasificacion": "DU"
                                },
                                {
                                    "IDC": "8",
                                    "CODENTIDAD": "00001",
                                    "CODPRODUCTO": "CONVENIO",
                                    "SALDO": "7580.00",
                                    "DIAS MORA": "360",
                                    "Clasificacion": "PE"
                                }
                            ]
                        },
                        "text/html": [
                            "<table>",
                            "<tr><th>IDC</th><th>CODENTIDAD</th><th>CODPRODUCTO</th><th>SALDO</th><th>DIAS MORA</th><th>Clasificacion</th></tr>",
                            "<tr><td>1</td><td>00001</td><td>CEF</td><td>800.00</td><td>15</td><td>PP</td></tr>",
                            "<tr><td>2</td><td>00002</td><td>TC</td><td>1200.00</td><td>16</td><td>PP</td></tr>",
                            "<tr><td>3</td><td>00002</td><td>CEF</td><td>4500.00</td><td>86</td><td>DU</td></tr>",
                            "<tr><td>4</td><td>00004</td><td>TC</td><td>3500.00</td><td>121</td><td>PE</td></tr>",
                            "<tr><td>5</td><td>00001</td><td>VEN</td><td>65000.00</td><td>7</td><td>NO</td></tr>",
                            "<tr><td>6</td><td>00003</td><td>CONVENIO</td><td>52400.00</td><td>53</td><td>DE</td></tr>",
                            "<tr><td>7</td><td>00003</td><td>CEF</td><td>12000.00</td><td>61</td><td>DU</td></tr>",
                            "<tr><td>8</td><td>00001</td><td>CONVENIO</td><td>7580.00</td><td>360</td><td>PE</td></tr>",
                            "</table>"
                        ]
                    }
                }
            ],
            "execution_count": 5
        },
        {
            "cell_type": "markdown",
            "source": [
                "## **3.\tDe la tabla T. CLIENTES, eliminar todos los registros con días de mora mayor al promedio de días de mora de toda la tabla.**"
            ],
            "metadata": {
                "language": "sql",
                "azdata_cell_guid": "2c58c876-45de-45ee-a592-5af1cf2dafee"
            },
            "attachments": {}
        },
        {
            "cell_type": "code",
            "source": [
                ""
            ],
            "metadata": {
                "language": "sql",
                "azdata_cell_guid": "0588af13-13bc-4a2d-9549-4b0ddb6d7661"
            },
            "outputs": [
                {
                    "output_type": "display_data",
                    "data": {
                        "text/html": "Commands completed successfully."
                    },
                    "metadata": {}
                },
                {
                    "output_type": "display_data",
                    "data": {
                        "text/html": "Total execution time: 00:00:00"
                    },
                    "metadata": {}
                }
            ],
            "execution_count": 6
        },
        {
            "cell_type": "markdown",
            "source": [
                "## **4.\tObtener el promedio de saldo de cada producto**"
            ],
            "metadata": {
                "language": "sql",
                "azdata_cell_guid": "ead577c9-67d0-47d7-b85a-d3d318ae4d67"
            },
            "attachments": {}
        },
        {
            "cell_type": "code",
            "source": [
                "SELECT CODPRODUCTO, AVG(SALDO) AS 'Saldo Promedio' FROM dbo.[T.CLIENTES]\r\n",
                "GROUP BY CODPRODUCTO"
            ],
            "metadata": {
                "language": "sql",
                "azdata_cell_guid": "111afff0-30ba-4f73-9cba-3d762f4b5e88"
            },
            "outputs": [
                {
                    "output_type": "display_data",
                    "data": {
                        "text/html": "(4 rows affected)"
                    },
                    "metadata": {}
                },
                {
                    "output_type": "display_data",
                    "data": {
                        "text/html": "Total execution time: 00:00:00.006"
                    },
                    "metadata": {}
                },
                {
                    "output_type": "execute_result",
                    "metadata": {},
                    "execution_count": 7,
                    "data": {
                        "application/vnd.dataresource+json": {
                            "schema": {
                                "fields": [
                                    {
                                        "name": "CODPRODUCTO"
                                    },
                                    {
                                        "name": "Saldo Promedio"
                                    }
                                ]
                            },
                            "data": [
                                {
                                    "CODPRODUCTO": "CEF",
                                    "Saldo Promedio": "5766.6666"
                                },
                                {
                                    "CODPRODUCTO": "CONVENIO",
                                    "Saldo Promedio": "29990.00"
                                },
                                {
                                    "CODPRODUCTO": "TC",
                                    "Saldo Promedio": "2350.00"
                                },
                                {
                                    "CODPRODUCTO": "VEN",
                                    "Saldo Promedio": "65000.00"
                                }
                            ]
                        },
                        "text/html": [
                            "<table>",
                            "<tr><th>CODPRODUCTO</th><th>Saldo Promedio</th></tr>",
                            "<tr><td>CEF</td><td>5766.6666</td></tr>",
                            "<tr><td>CONVENIO</td><td>29990.00</td></tr>",
                            "<tr><td>TC</td><td>2350.00</td></tr>",
                            "<tr><td>VEN</td><td>65000.00</td></tr>",
                            "</table>"
                        ]
                    }
                }
            ],
            "execution_count": 7
        }
    ]
}